{
 "cells": [
  {
   "cell_type": "code",
   "execution_count": 1,
   "id": "b5e888ce",
   "metadata": {},
   "outputs": [],
   "source": [
    "import pandas as pd"
   ]
  },
  {
   "cell_type": "markdown",
   "id": "ef68c2d3",
   "metadata": {},
   "source": [
    "### Load data in pandas dataframe"
   ]
  },
  {
   "cell_type": "code",
   "execution_count": 2,
   "id": "30f01bae",
   "metadata": {},
   "outputs": [],
   "source": [
    "df = pd.read_csv('AviationData.csv', encoding='cp1252', low_memory=False)"
   ]
  },
  {
   "cell_type": "code",
   "execution_count": 3,
   "id": "839d4045",
   "metadata": {},
   "outputs": [
    {
     "data": {
      "text/html": [
       "<div>\n",
       "<style scoped>\n",
       "    .dataframe tbody tr th:only-of-type {\n",
       "        vertical-align: middle;\n",
       "    }\n",
       "\n",
       "    .dataframe tbody tr th {\n",
       "        vertical-align: top;\n",
       "    }\n",
       "\n",
       "    .dataframe thead th {\n",
       "        text-align: right;\n",
       "    }\n",
       "</style>\n",
       "<table border=\"1\" class=\"dataframe\">\n",
       "  <thead>\n",
       "    <tr style=\"text-align: right;\">\n",
       "      <th></th>\n",
       "      <th>Event.Id</th>\n",
       "      <th>Investigation.Type</th>\n",
       "      <th>Accident.Number</th>\n",
       "      <th>Event.Date</th>\n",
       "      <th>Location</th>\n",
       "      <th>Country</th>\n",
       "      <th>Latitude</th>\n",
       "      <th>Longitude</th>\n",
       "      <th>Airport.Code</th>\n",
       "      <th>Airport.Name</th>\n",
       "      <th>...</th>\n",
       "      <th>Purpose.of.flight</th>\n",
       "      <th>Air.carrier</th>\n",
       "      <th>Total.Fatal.Injuries</th>\n",
       "      <th>Total.Serious.Injuries</th>\n",
       "      <th>Total.Minor.Injuries</th>\n",
       "      <th>Total.Uninjured</th>\n",
       "      <th>Weather.Condition</th>\n",
       "      <th>Broad.phase.of.flight</th>\n",
       "      <th>Report.Status</th>\n",
       "      <th>Publication.Date</th>\n",
       "    </tr>\n",
       "  </thead>\n",
       "  <tbody>\n",
       "    <tr>\n",
       "      <th>0</th>\n",
       "      <td>20001218X45444</td>\n",
       "      <td>Accident</td>\n",
       "      <td>SEA87LA080</td>\n",
       "      <td>1948-10-24</td>\n",
       "      <td>MOOSE CREEK, ID</td>\n",
       "      <td>United States</td>\n",
       "      <td>NaN</td>\n",
       "      <td>NaN</td>\n",
       "      <td>NaN</td>\n",
       "      <td>NaN</td>\n",
       "      <td>...</td>\n",
       "      <td>Personal</td>\n",
       "      <td>NaN</td>\n",
       "      <td>2.0</td>\n",
       "      <td>0.0</td>\n",
       "      <td>0.0</td>\n",
       "      <td>0.0</td>\n",
       "      <td>UNK</td>\n",
       "      <td>Cruise</td>\n",
       "      <td>Probable Cause</td>\n",
       "      <td>NaN</td>\n",
       "    </tr>\n",
       "    <tr>\n",
       "      <th>1</th>\n",
       "      <td>20001218X45447</td>\n",
       "      <td>Accident</td>\n",
       "      <td>LAX94LA336</td>\n",
       "      <td>1962-07-19</td>\n",
       "      <td>BRIDGEPORT, CA</td>\n",
       "      <td>United States</td>\n",
       "      <td>NaN</td>\n",
       "      <td>NaN</td>\n",
       "      <td>NaN</td>\n",
       "      <td>NaN</td>\n",
       "      <td>...</td>\n",
       "      <td>Personal</td>\n",
       "      <td>NaN</td>\n",
       "      <td>4.0</td>\n",
       "      <td>0.0</td>\n",
       "      <td>0.0</td>\n",
       "      <td>0.0</td>\n",
       "      <td>UNK</td>\n",
       "      <td>Unknown</td>\n",
       "      <td>Probable Cause</td>\n",
       "      <td>19-09-1996</td>\n",
       "    </tr>\n",
       "    <tr>\n",
       "      <th>2</th>\n",
       "      <td>20061025X01555</td>\n",
       "      <td>Accident</td>\n",
       "      <td>NYC07LA005</td>\n",
       "      <td>1974-08-30</td>\n",
       "      <td>Saltville, VA</td>\n",
       "      <td>United States</td>\n",
       "      <td>36.922223</td>\n",
       "      <td>-81.878056</td>\n",
       "      <td>NaN</td>\n",
       "      <td>NaN</td>\n",
       "      <td>...</td>\n",
       "      <td>Personal</td>\n",
       "      <td>NaN</td>\n",
       "      <td>3.0</td>\n",
       "      <td>NaN</td>\n",
       "      <td>NaN</td>\n",
       "      <td>NaN</td>\n",
       "      <td>IMC</td>\n",
       "      <td>Cruise</td>\n",
       "      <td>Probable Cause</td>\n",
       "      <td>26-02-2007</td>\n",
       "    </tr>\n",
       "    <tr>\n",
       "      <th>3</th>\n",
       "      <td>20001218X45448</td>\n",
       "      <td>Accident</td>\n",
       "      <td>LAX96LA321</td>\n",
       "      <td>1977-06-19</td>\n",
       "      <td>EUREKA, CA</td>\n",
       "      <td>United States</td>\n",
       "      <td>NaN</td>\n",
       "      <td>NaN</td>\n",
       "      <td>NaN</td>\n",
       "      <td>NaN</td>\n",
       "      <td>...</td>\n",
       "      <td>Personal</td>\n",
       "      <td>NaN</td>\n",
       "      <td>2.0</td>\n",
       "      <td>0.0</td>\n",
       "      <td>0.0</td>\n",
       "      <td>0.0</td>\n",
       "      <td>IMC</td>\n",
       "      <td>Cruise</td>\n",
       "      <td>Probable Cause</td>\n",
       "      <td>12-09-2000</td>\n",
       "    </tr>\n",
       "    <tr>\n",
       "      <th>4</th>\n",
       "      <td>20041105X01764</td>\n",
       "      <td>Accident</td>\n",
       "      <td>CHI79FA064</td>\n",
       "      <td>1979-08-02</td>\n",
       "      <td>Canton, OH</td>\n",
       "      <td>United States</td>\n",
       "      <td>NaN</td>\n",
       "      <td>NaN</td>\n",
       "      <td>NaN</td>\n",
       "      <td>NaN</td>\n",
       "      <td>...</td>\n",
       "      <td>Personal</td>\n",
       "      <td>NaN</td>\n",
       "      <td>1.0</td>\n",
       "      <td>2.0</td>\n",
       "      <td>NaN</td>\n",
       "      <td>0.0</td>\n",
       "      <td>VMC</td>\n",
       "      <td>Approach</td>\n",
       "      <td>Probable Cause</td>\n",
       "      <td>16-04-1980</td>\n",
       "    </tr>\n",
       "  </tbody>\n",
       "</table>\n",
       "<p>5 rows × 31 columns</p>\n",
       "</div>"
      ],
      "text/plain": [
       "         Event.Id Investigation.Type Accident.Number  Event.Date  \\\n",
       "0  20001218X45444           Accident      SEA87LA080  1948-10-24   \n",
       "1  20001218X45447           Accident      LAX94LA336  1962-07-19   \n",
       "2  20061025X01555           Accident      NYC07LA005  1974-08-30   \n",
       "3  20001218X45448           Accident      LAX96LA321  1977-06-19   \n",
       "4  20041105X01764           Accident      CHI79FA064  1979-08-02   \n",
       "\n",
       "          Location        Country   Latitude   Longitude Airport.Code  \\\n",
       "0  MOOSE CREEK, ID  United States        NaN         NaN          NaN   \n",
       "1   BRIDGEPORT, CA  United States        NaN         NaN          NaN   \n",
       "2    Saltville, VA  United States  36.922223  -81.878056          NaN   \n",
       "3       EUREKA, CA  United States        NaN         NaN          NaN   \n",
       "4       Canton, OH  United States        NaN         NaN          NaN   \n",
       "\n",
       "  Airport.Name  ... Purpose.of.flight Air.carrier Total.Fatal.Injuries  \\\n",
       "0          NaN  ...          Personal         NaN                  2.0   \n",
       "1          NaN  ...          Personal         NaN                  4.0   \n",
       "2          NaN  ...          Personal         NaN                  3.0   \n",
       "3          NaN  ...          Personal         NaN                  2.0   \n",
       "4          NaN  ...          Personal         NaN                  1.0   \n",
       "\n",
       "  Total.Serious.Injuries Total.Minor.Injuries Total.Uninjured  \\\n",
       "0                    0.0                  0.0             0.0   \n",
       "1                    0.0                  0.0             0.0   \n",
       "2                    NaN                  NaN             NaN   \n",
       "3                    0.0                  0.0             0.0   \n",
       "4                    2.0                  NaN             0.0   \n",
       "\n",
       "  Weather.Condition  Broad.phase.of.flight   Report.Status Publication.Date  \n",
       "0               UNK                 Cruise  Probable Cause              NaN  \n",
       "1               UNK                Unknown  Probable Cause       19-09-1996  \n",
       "2               IMC                 Cruise  Probable Cause       26-02-2007  \n",
       "3               IMC                 Cruise  Probable Cause       12-09-2000  \n",
       "4               VMC               Approach  Probable Cause       16-04-1980  \n",
       "\n",
       "[5 rows x 31 columns]"
      ]
     },
     "execution_count": 3,
     "metadata": {},
     "output_type": "execute_result"
    }
   ],
   "source": [
    "df.head()"
   ]
  },
  {
   "cell_type": "markdown",
   "id": "9386bb3c",
   "metadata": {},
   "source": [
    "### Total cols in dataset"
   ]
  },
  {
   "cell_type": "code",
   "execution_count": 4,
   "id": "9a7c3618",
   "metadata": {},
   "outputs": [
    {
     "name": "stdout",
     "output_type": "stream",
     "text": [
      "<class 'pandas.core.frame.DataFrame'>\n",
      "RangeIndex: 88889 entries, 0 to 88888\n",
      "Data columns (total 31 columns):\n",
      " #   Column                  Non-Null Count  Dtype  \n",
      "---  ------                  --------------  -----  \n",
      " 0   Event.Id                88889 non-null  object \n",
      " 1   Investigation.Type      88889 non-null  object \n",
      " 2   Accident.Number         88889 non-null  object \n",
      " 3   Event.Date              88889 non-null  object \n",
      " 4   Location                88837 non-null  object \n",
      " 5   Country                 88663 non-null  object \n",
      " 6   Latitude                34382 non-null  object \n",
      " 7   Longitude               34373 non-null  object \n",
      " 8   Airport.Code            50249 non-null  object \n",
      " 9   Airport.Name            52790 non-null  object \n",
      " 10  Injury.Severity         87889 non-null  object \n",
      " 11  Aircraft.damage         85695 non-null  object \n",
      " 12  Aircraft.Category       32287 non-null  object \n",
      " 13  Registration.Number     87572 non-null  object \n",
      " 14  Make                    88826 non-null  object \n",
      " 15  Model                   88797 non-null  object \n",
      " 16  Amateur.Built           88787 non-null  object \n",
      " 17  Number.of.Engines       82805 non-null  float64\n",
      " 18  Engine.Type             81812 non-null  object \n",
      " 19  FAR.Description         32023 non-null  object \n",
      " 20  Schedule                12582 non-null  object \n",
      " 21  Purpose.of.flight       82697 non-null  object \n",
      " 22  Air.carrier             16648 non-null  object \n",
      " 23  Total.Fatal.Injuries    77488 non-null  float64\n",
      " 24  Total.Serious.Injuries  76379 non-null  float64\n",
      " 25  Total.Minor.Injuries    76956 non-null  float64\n",
      " 26  Total.Uninjured         82977 non-null  float64\n",
      " 27  Weather.Condition       84397 non-null  object \n",
      " 28  Broad.phase.of.flight   61724 non-null  object \n",
      " 29  Report.Status           82508 non-null  object \n",
      " 30  Publication.Date        75118 non-null  object \n",
      "dtypes: float64(5), object(26)\n",
      "memory usage: 21.0+ MB\n"
     ]
    }
   ],
   "source": [
    "df.info()"
   ]
  },
  {
   "cell_type": "markdown",
   "id": "d5144b7a",
   "metadata": {},
   "source": [
    "### Drop columns with over 50% missing values"
   ]
  },
  {
   "cell_type": "code",
   "execution_count": 5,
   "id": "36d8dd9d",
   "metadata": {},
   "outputs": [],
   "source": [
    "rows = len(df)\n",
    "missing = df.isna().sum()\n",
    "percentage_missing = missing / rows\n",
    "percentage_missing_df = pd.DataFrame({'Missing' : percentage_missing})\n",
    "\n",
    "cols_to_drop = list(percentage_missing_df[percentage_missing_df['Missing'] > 0.5].index)\n",
    "df.drop(columns = cols_to_drop, axis = 1, inplace = True)"
   ]
  },
  {
   "cell_type": "markdown",
   "id": "8144c905",
   "metadata": {},
   "source": [
    "### Dropped Columns"
   ]
  },
  {
   "cell_type": "code",
   "execution_count": 6,
   "id": "77fdbe3a",
   "metadata": {},
   "outputs": [
    {
     "name": "stdout",
     "output_type": "stream",
     "text": [
      "                    Missing\n",
      "Latitude           0.613203\n",
      "Longitude          0.613304\n",
      "Aircraft.Category  0.636772\n",
      "FAR.Description    0.639742\n",
      "Schedule           0.858453\n",
      "Air.carrier        0.812710\n"
     ]
    }
   ],
   "source": [
    "print(percentage_missing_df[percentage_missing_df['Missing'] > 0.5])"
   ]
  },
  {
   "cell_type": "markdown",
   "id": "fd6e4a07",
   "metadata": {},
   "source": [
    "### Remove the cols that do not provide any valuable information\n",
    "* Accident Number\n",
    "* Airport Code\n",
    "* Registration Number\n",
    "* Publication Date"
   ]
  },
  {
   "cell_type": "code",
   "execution_count": 7,
   "id": "c2cec19f",
   "metadata": {},
   "outputs": [],
   "source": [
    "df.drop(columns=['Accident.Number','Airport.Code','Registration.Number','Publication.Date'],inplace=True)"
   ]
  },
  {
   "cell_type": "markdown",
   "id": "e9853c85",
   "metadata": {},
   "source": [
    "### Only keep the Data of Accident/Incident, that happend in US"
   ]
  },
  {
   "cell_type": "code",
   "execution_count": 8,
   "id": "dc23e240",
   "metadata": {},
   "outputs": [],
   "source": [
    "before = len(df)\n",
    "df = df[(df['Investigation.Type'] == 'Accident') & (df['Country'] == 'United States')]\n",
    "dropped = before - len(df)"
   ]
  },
  {
   "cell_type": "markdown",
   "id": "a3c4464e",
   "metadata": {},
   "source": [
    "### Number of rows that get dropped."
   ]
  },
  {
   "cell_type": "code",
   "execution_count": 9,
   "id": "b3cb1338",
   "metadata": {},
   "outputs": [
    {
     "name": "stdout",
     "output_type": "stream",
     "text": [
      "8983 rows dropped.\n"
     ]
    }
   ],
   "source": [
    "print(str(dropped) + ' rows dropped.')"
   ]
  },
  {
   "cell_type": "markdown",
   "id": "0e4aeb37",
   "metadata": {},
   "source": [
    "### Convert the Date of format (i.e. 19-09-1996) into three cols of day, month and year"
   ]
  },
  {
   "cell_type": "code",
   "execution_count": 10,
   "id": "d2ec6204",
   "metadata": {},
   "outputs": [],
   "source": [
    "df[['Date.Year', 'Date.Month', 'Date.Day']] = df['Event.Date'].str.split('-', expand=True)\n",
    "\n",
    "df['Date.Day'] = df['Date.Day'].astype(int)\n",
    "df['Date.Month'] = df['Date.Month'].astype(int)\n",
    "df['Date.Year'] = df['Date.Year'].astype(int)"
   ]
  },
  {
   "cell_type": "markdown",
   "id": "602733d6",
   "metadata": {},
   "source": [
    "### Remove the data before 2000 because back then airplanes where different "
   ]
  },
  {
   "cell_type": "code",
   "execution_count": 11,
   "id": "db4a9ca3",
   "metadata": {},
   "outputs": [],
   "source": [
    "df = df[df['Date.Year'] >= 2000]"
   ]
  },
  {
   "cell_type": "markdown",
   "id": "00ddaad1",
   "metadata": {},
   "source": [
    "### Aircraft Manufacturer"
   ]
  },
  {
   "cell_type": "code",
   "execution_count": 12,
   "id": "8c2368ba",
   "metadata": {},
   "outputs": [],
   "source": [
    "df['Make'] = df['Make'].str.title()"
   ]
  },
  {
   "cell_type": "code",
   "execution_count": 13,
   "id": "44546ff4",
   "metadata": {},
   "outputs": [
    {
     "data": {
      "text/plain": [
       "Cessna         0.271029\n",
       "Piper          0.153392\n",
       "Beech          0.056297\n",
       "Bell           0.025470\n",
       "Mooney         0.015385\n",
       "Robinson       0.014497\n",
       "Boeing         0.013093\n",
       "Bellanca       0.009540\n",
       "Air Tractor    0.009053\n",
       "Schweizer      0.008967\n",
       "Name: Make, dtype: float64"
      ]
     },
     "execution_count": 13,
     "metadata": {},
     "output_type": "execute_result"
    }
   ],
   "source": [
    "df['Make'].value_counts().nlargest(10) / df.shape[0]"
   ]
  },
  {
   "cell_type": "markdown",
   "id": "ad651093",
   "metadata": {},
   "source": [
    "### Drop unwanted columns"
   ]
  },
  {
   "cell_type": "code",
   "execution_count": 14,
   "id": "71c74204",
   "metadata": {},
   "outputs": [
    {
     "name": "stdout",
     "output_type": "stream",
     "text": [
      "<class 'pandas.core.frame.DataFrame'>\n",
      "Int64Index: 34904 entries, 47675 to 88888\n",
      "Data columns (total 24 columns):\n",
      " #   Column                  Non-Null Count  Dtype  \n",
      "---  ------                  --------------  -----  \n",
      " 0   Event.Id                34904 non-null  object \n",
      " 1   Investigation.Type      34904 non-null  object \n",
      " 2   Event.Date              34904 non-null  object \n",
      " 3   Location                34897 non-null  object \n",
      " 4   Country                 34904 non-null  object \n",
      " 5   Airport.Name            23765 non-null  object \n",
      " 6   Injury.Severity         34852 non-null  object \n",
      " 7   Aircraft.damage         34298 non-null  object \n",
      " 8   Make                    34899 non-null  object \n",
      " 9   Model                   34897 non-null  object \n",
      " 10  Amateur.Built           34890 non-null  object \n",
      " 11  Number.of.Engines       33847 non-null  float64\n",
      " 12  Engine.Type             32008 non-null  object \n",
      " 13  Purpose.of.flight       33074 non-null  object \n",
      " 14  Total.Fatal.Injuries    24794 non-null  float64\n",
      " 15  Total.Serious.Injuries  24151 non-null  float64\n",
      " 16  Total.Minor.Injuries    24787 non-null  float64\n",
      " 17  Total.Uninjured         30076 non-null  float64\n",
      " 18  Weather.Condition       34350 non-null  object \n",
      " 19  Broad.phase.of.flight   14474 non-null  object \n",
      " 20  Report.Status           32339 non-null  object \n",
      " 21  Date.Year               34904 non-null  int32  \n",
      " 22  Date.Month              34904 non-null  int32  \n",
      " 23  Date.Day                34904 non-null  int32  \n",
      "dtypes: float64(5), int32(3), object(16)\n",
      "memory usage: 6.3+ MB\n"
     ]
    }
   ],
   "source": [
    "df.info()"
   ]
  },
  {
   "cell_type": "markdown",
   "id": "a6dca04b",
   "metadata": {},
   "source": [
    "### Dropped following columns\n",
    "\n",
    "* Country \n",
    "* Injury.Severity\n",
    "* Total.Fatal.Injuries\n",
    "* Total.Serious.Injuries\n",
    "* Total.Minor.Injuries\n",
    "* Total.Uninjured\n",
    "* Report.Status"
   ]
  },
  {
   "cell_type": "code",
   "execution_count": 15,
   "id": "ed65064f",
   "metadata": {},
   "outputs": [],
   "source": [
    "columns = ['Country', 'Injury.Severity', 'Total.Fatal.Injuries', 'Total.Serious.Injuries', 'Total.Minor.Injuries', 'Total.Uninjured', 'Report.Status']\n",
    "df = df.drop(columns, axis=1)"
   ]
  },
  {
   "cell_type": "markdown",
   "id": "e3c08f28",
   "metadata": {},
   "source": [
    "### Split location (e.g. PULLMAN, WA) into two cols [City, State]"
   ]
  },
  {
   "cell_type": "code",
   "execution_count": 16,
   "id": "4618932b",
   "metadata": {},
   "outputs": [],
   "source": [
    "df['City'] = df['Location'].str.split(',').str[0]\n",
    "df['State'] = df['Location'].str.split(',').str[1]"
   ]
  },
  {
   "cell_type": "code",
   "execution_count": 17,
   "id": "27530538",
   "metadata": {},
   "outputs": [],
   "source": [
    "df = df.drop(['Location'], axis=1)"
   ]
  },
  {
   "cell_type": "markdown",
   "id": "0b9250af",
   "metadata": {},
   "source": [
    "### Replace name of private airports with the value PRIVATE and none with NONE value\n"
   ]
  },
  {
   "cell_type": "code",
   "execution_count": 18,
   "id": "69160a8b",
   "metadata": {},
   "outputs": [
    {
     "data": {
      "text/plain": [
       "PRIVATE               671\n",
       "NONE                  125\n",
       "North Las Vegas        40\n",
       "PVT                    35\n",
       "Centennial Airport     27\n",
       "Merrill Field          26\n",
       "MERRILL FIELD          26\n",
       "Falcon Field           26\n",
       "Centennial             25\n",
       "Gillespie Field        24\n",
       "Name: Airport.Name, dtype: int64"
      ]
     },
     "execution_count": 18,
     "metadata": {},
     "output_type": "execute_result"
    }
   ],
   "source": [
    "df['Airport.Name'].replace(to_replace = '(?i)^.*private.*$', value = 'PRIVATE', inplace = True, regex = True)\n",
    "df['Airport.Name'].replace(to_replace = '(?i)none', value = 'NONE', inplace = True, regex = True)\n",
    "df['Airport.Name'].value_counts().nlargest(10)"
   ]
  },
  {
   "cell_type": "markdown",
   "id": "28fcb565",
   "metadata": {},
   "source": [
    "### Transform Amateur Built to boolean"
   ]
  },
  {
   "cell_type": "code",
   "execution_count": 19,
   "id": "e7ea6b1c",
   "metadata": {},
   "outputs": [],
   "source": [
    "df['Amateur.Built'].replace(to_replace = ['Yes', 'Y'], value = True, inplace = True, regex = False)\n",
    "df['Amateur.Built'].replace(to_replace = ['No', 'N'], value = False, inplace = True, regex = False)"
   ]
  },
  {
   "cell_type": "markdown",
   "id": "fd32db69",
   "metadata": {},
   "source": [
    "### Replace weather condition 'Unk' or 'UNK' with value 'Unknown'"
   ]
  },
  {
   "cell_type": "code",
   "execution_count": 20,
   "id": "ef8167e6",
   "metadata": {},
   "outputs": [
    {
     "data": {
      "text/plain": [
       "VMC        32401\n",
       "IMC         1843\n",
       "Unknown      106\n",
       "Name: Weather.Condition, dtype: int64"
      ]
     },
     "execution_count": 20,
     "metadata": {},
     "output_type": "execute_result"
    }
   ],
   "source": [
    "df['Weather.Condition'].replace(to_replace = ['Unk', 'UNK'], value = 'Unknown', inplace = True, regex = False)\n",
    "df['Weather.Condition'].value_counts()"
   ]
  },
  {
   "cell_type": "code",
   "execution_count": 21,
   "id": "e8e2cdfb",
   "metadata": {},
   "outputs": [
    {
     "name": "stdout",
     "output_type": "stream",
     "text": [
      "<class 'pandas.core.frame.DataFrame'>\n",
      "Int64Index: 34904 entries, 47675 to 88888\n",
      "Data columns (total 18 columns):\n",
      " #   Column                 Non-Null Count  Dtype  \n",
      "---  ------                 --------------  -----  \n",
      " 0   Event.Id               34904 non-null  object \n",
      " 1   Investigation.Type     34904 non-null  object \n",
      " 2   Event.Date             34904 non-null  object \n",
      " 3   Airport.Name           23765 non-null  object \n",
      " 4   Aircraft.damage        34298 non-null  object \n",
      " 5   Make                   34899 non-null  object \n",
      " 6   Model                  34897 non-null  object \n",
      " 7   Amateur.Built          34890 non-null  object \n",
      " 8   Number.of.Engines      33847 non-null  float64\n",
      " 9   Engine.Type            32008 non-null  object \n",
      " 10  Purpose.of.flight      33074 non-null  object \n",
      " 11  Weather.Condition      34350 non-null  object \n",
      " 12  Broad.phase.of.flight  14474 non-null  object \n",
      " 13  Date.Year              34904 non-null  int32  \n",
      " 14  Date.Month             34904 non-null  int32  \n",
      " 15  Date.Day               34904 non-null  int32  \n",
      " 16  City                   34897 non-null  object \n",
      " 17  State                  34897 non-null  object \n",
      "dtypes: float64(1), int32(3), object(14)\n",
      "memory usage: 4.7+ MB\n"
     ]
    }
   ],
   "source": [
    "df.info()"
   ]
  },
  {
   "cell_type": "markdown",
   "id": "f739e640",
   "metadata": {},
   "source": [
    "### Let's prepare Event.Id"
   ]
  },
  {
   "cell_type": "code",
   "execution_count": 22,
   "id": "80cad8fa",
   "metadata": {},
   "outputs": [
    {
     "data": {
      "text/plain": [
       "'20001212X20407'"
      ]
     },
     "execution_count": 22,
     "metadata": {},
     "output_type": "execute_result"
    }
   ],
   "source": [
    "df.iloc[0]['Event.Id']"
   ]
  },
  {
   "cell_type": "markdown",
   "id": "33bd7319",
   "metadata": {},
   "source": [
    "#### Let's remove it. It doesn't carry any information that we need in our prediction"
   ]
  },
  {
   "cell_type": "code",
   "execution_count": 23,
   "id": "533c3e2e",
   "metadata": {},
   "outputs": [],
   "source": [
    "df = df.drop(['Event.Id'], axis=1)"
   ]
  },
  {
   "cell_type": "markdown",
   "id": "5060b8f1",
   "metadata": {},
   "source": [
    "### Total number of NaN values in te dataframe"
   ]
  },
  {
   "cell_type": "code",
   "execution_count": 24,
   "id": "c5858507",
   "metadata": {},
   "outputs": [
    {
     "name": "stdout",
     "output_type": "stream",
     "text": [
      "Investigation.Type           0\n",
      "Event.Date                   0\n",
      "Airport.Name             11139\n",
      "Aircraft.damage            606\n",
      "Make                         5\n",
      "Model                        7\n",
      "Amateur.Built               14\n",
      "Number.of.Engines         1057\n",
      "Engine.Type               2896\n",
      "Purpose.of.flight         1830\n",
      "Weather.Condition          554\n",
      "Broad.phase.of.flight    20430\n",
      "Date.Year                    0\n",
      "Date.Month                   0\n",
      "Date.Day                     0\n",
      "City                         7\n",
      "State                        7\n",
      "dtype: int64\n"
     ]
    }
   ],
   "source": [
    "print(df.isna().sum())"
   ]
  },
  {
   "cell_type": "markdown",
   "id": "1e9f5dbb",
   "metadata": {},
   "source": [
    "### Let's drop Broad.phase. of.flight and Airport.Name"
   ]
  },
  {
   "cell_type": "code",
   "execution_count": 25,
   "id": "6041b36d",
   "metadata": {},
   "outputs": [],
   "source": [
    "df = df.drop(['Broad.phase.of.flight'], axis=1)"
   ]
  },
  {
   "cell_type": "code",
   "execution_count": 26,
   "id": "36b99564",
   "metadata": {},
   "outputs": [],
   "source": [
    "df = df.drop(['Airport.Name'], axis=1)"
   ]
  },
  {
   "cell_type": "markdown",
   "id": "0853de41",
   "metadata": {},
   "source": [
    "### Let's Impute missing values with upper value in the row for each column"
   ]
  },
  {
   "cell_type": "code",
   "execution_count": 27,
   "id": "c8cd6b7d",
   "metadata": {},
   "outputs": [],
   "source": [
    "df.fillna(method='ffill', inplace=True)"
   ]
  },
  {
   "cell_type": "code",
   "execution_count": 28,
   "id": "3f524e0e",
   "metadata": {},
   "outputs": [
    {
     "name": "stdout",
     "output_type": "stream",
     "text": [
      "Investigation.Type    0\n",
      "Event.Date            0\n",
      "Aircraft.damage       0\n",
      "Make                  0\n",
      "Model                 0\n",
      "Amateur.Built         0\n",
      "Number.of.Engines     0\n",
      "Engine.Type           0\n",
      "Purpose.of.flight     0\n",
      "Weather.Condition     0\n",
      "Date.Year             0\n",
      "Date.Month            0\n",
      "Date.Day              0\n",
      "City                  0\n",
      "State                 0\n",
      "dtype: int64\n"
     ]
    }
   ],
   "source": [
    "print(df.isna().sum())"
   ]
  },
  {
   "cell_type": "code",
   "execution_count": 29,
   "id": "5d192a72",
   "metadata": {},
   "outputs": [
    {
     "name": "stdout",
     "output_type": "stream",
     "text": [
      "<class 'pandas.core.frame.DataFrame'>\n",
      "Int64Index: 34904 entries, 47675 to 88888\n",
      "Data columns (total 15 columns):\n",
      " #   Column              Non-Null Count  Dtype  \n",
      "---  ------              --------------  -----  \n",
      " 0   Investigation.Type  34904 non-null  object \n",
      " 1   Event.Date          34904 non-null  object \n",
      " 2   Aircraft.damage     34904 non-null  object \n",
      " 3   Make                34904 non-null  object \n",
      " 4   Model               34904 non-null  object \n",
      " 5   Amateur.Built       34904 non-null  bool   \n",
      " 6   Number.of.Engines   34904 non-null  float64\n",
      " 7   Engine.Type         34904 non-null  object \n",
      " 8   Purpose.of.flight   34904 non-null  object \n",
      " 9   Weather.Condition   34904 non-null  object \n",
      " 10  Date.Year           34904 non-null  int32  \n",
      " 11  Date.Month          34904 non-null  int32  \n",
      " 12  Date.Day            34904 non-null  int32  \n",
      " 13  City                34904 non-null  object \n",
      " 14  State               34904 non-null  object \n",
      "dtypes: bool(1), float64(1), int32(3), object(10)\n",
      "memory usage: 3.6+ MB\n"
     ]
    }
   ],
   "source": [
    "df.info()"
   ]
  },
  {
   "cell_type": "markdown",
   "id": "c8201523",
   "metadata": {},
   "source": [
    "### Let's drop Investigation.Type, Event.Date"
   ]
  },
  {
   "cell_type": "code",
   "execution_count": 30,
   "id": "0679ec34",
   "metadata": {},
   "outputs": [],
   "source": [
    "df = df.drop(['Investigation.Type', 'Event.Date'], axis=1)"
   ]
  },
  {
   "cell_type": "code",
   "execution_count": 31,
   "id": "c5cfb86a",
   "metadata": {},
   "outputs": [],
   "source": [
    "df = df.reset_index(drop=True)"
   ]
  },
  {
   "cell_type": "code",
   "execution_count": 32,
   "id": "3f3dfd6e",
   "metadata": {},
   "outputs": [
    {
     "data": {
      "text/html": [
       "<div>\n",
       "<style scoped>\n",
       "    .dataframe tbody tr th:only-of-type {\n",
       "        vertical-align: middle;\n",
       "    }\n",
       "\n",
       "    .dataframe tbody tr th {\n",
       "        vertical-align: top;\n",
       "    }\n",
       "\n",
       "    .dataframe thead th {\n",
       "        text-align: right;\n",
       "    }\n",
       "</style>\n",
       "<table border=\"1\" class=\"dataframe\">\n",
       "  <thead>\n",
       "    <tr style=\"text-align: right;\">\n",
       "      <th></th>\n",
       "      <th>Aircraft.damage</th>\n",
       "      <th>Make</th>\n",
       "      <th>Model</th>\n",
       "      <th>Amateur.Built</th>\n",
       "      <th>Number.of.Engines</th>\n",
       "      <th>Engine.Type</th>\n",
       "      <th>Purpose.of.flight</th>\n",
       "      <th>Weather.Condition</th>\n",
       "      <th>Date.Year</th>\n",
       "      <th>Date.Month</th>\n",
       "      <th>Date.Day</th>\n",
       "      <th>City</th>\n",
       "      <th>State</th>\n",
       "    </tr>\n",
       "  </thead>\n",
       "  <tbody>\n",
       "    <tr>\n",
       "      <th>0</th>\n",
       "      <td>Substantial</td>\n",
       "      <td>Cessna</td>\n",
       "      <td>550</td>\n",
       "      <td>False</td>\n",
       "      <td>2.0</td>\n",
       "      <td>Turbo Fan</td>\n",
       "      <td>Positioning</td>\n",
       "      <td>VMC</td>\n",
       "      <td>2000</td>\n",
       "      <td>1</td>\n",
       "      <td>1</td>\n",
       "      <td>HOMESTEAD</td>\n",
       "      <td>FL</td>\n",
       "    </tr>\n",
       "    <tr>\n",
       "      <th>1</th>\n",
       "      <td>Destroyed</td>\n",
       "      <td>Bellanca</td>\n",
       "      <td>BL-17-30A</td>\n",
       "      <td>False</td>\n",
       "      <td>1.0</td>\n",
       "      <td>Reciprocating</td>\n",
       "      <td>Personal</td>\n",
       "      <td>IMC</td>\n",
       "      <td>2000</td>\n",
       "      <td>1</td>\n",
       "      <td>1</td>\n",
       "      <td>MONTEAGLE</td>\n",
       "      <td>TN</td>\n",
       "    </tr>\n",
       "    <tr>\n",
       "      <th>2</th>\n",
       "      <td>Substantial</td>\n",
       "      <td>Cessna</td>\n",
       "      <td>172G</td>\n",
       "      <td>False</td>\n",
       "      <td>1.0</td>\n",
       "      <td>Reciprocating</td>\n",
       "      <td>Personal</td>\n",
       "      <td>VMC</td>\n",
       "      <td>2000</td>\n",
       "      <td>1</td>\n",
       "      <td>2</td>\n",
       "      <td>VICTORVILLE</td>\n",
       "      <td>CA</td>\n",
       "    </tr>\n",
       "    <tr>\n",
       "      <th>3</th>\n",
       "      <td>Substantial</td>\n",
       "      <td>Cessna</td>\n",
       "      <td>172A</td>\n",
       "      <td>False</td>\n",
       "      <td>1.0</td>\n",
       "      <td>Reciprocating</td>\n",
       "      <td>Instructional</td>\n",
       "      <td>VMC</td>\n",
       "      <td>2000</td>\n",
       "      <td>1</td>\n",
       "      <td>2</td>\n",
       "      <td>DOS PALOS</td>\n",
       "      <td>CA</td>\n",
       "    </tr>\n",
       "    <tr>\n",
       "      <th>4</th>\n",
       "      <td>Substantial</td>\n",
       "      <td>Piper</td>\n",
       "      <td>PA-46-310P</td>\n",
       "      <td>False</td>\n",
       "      <td>1.0</td>\n",
       "      <td>Turbo Prop</td>\n",
       "      <td>Personal</td>\n",
       "      <td>VMC</td>\n",
       "      <td>2000</td>\n",
       "      <td>1</td>\n",
       "      <td>2</td>\n",
       "      <td>CORNING</td>\n",
       "      <td>AR</td>\n",
       "    </tr>\n",
       "  </tbody>\n",
       "</table>\n",
       "</div>"
      ],
      "text/plain": [
       "  Aircraft.damage      Make       Model  Amateur.Built  Number.of.Engines  \\\n",
       "0     Substantial    Cessna         550          False                2.0   \n",
       "1       Destroyed  Bellanca   BL-17-30A          False                1.0   \n",
       "2     Substantial    Cessna        172G          False                1.0   \n",
       "3     Substantial    Cessna        172A          False                1.0   \n",
       "4     Substantial     Piper  PA-46-310P          False                1.0   \n",
       "\n",
       "     Engine.Type Purpose.of.flight Weather.Condition  Date.Year  Date.Month  \\\n",
       "0      Turbo Fan       Positioning               VMC       2000           1   \n",
       "1  Reciprocating          Personal               IMC       2000           1   \n",
       "2  Reciprocating          Personal               VMC       2000           1   \n",
       "3  Reciprocating     Instructional               VMC       2000           1   \n",
       "4     Turbo Prop          Personal               VMC       2000           1   \n",
       "\n",
       "   Date.Day         City State  \n",
       "0         1    HOMESTEAD    FL  \n",
       "1         1    MONTEAGLE    TN  \n",
       "2         2  VICTORVILLE    CA  \n",
       "3         2    DOS PALOS    CA  \n",
       "4         2      CORNING    AR  "
      ]
     },
     "execution_count": 32,
     "metadata": {},
     "output_type": "execute_result"
    }
   ],
   "source": [
    "df.head()"
   ]
  },
  {
   "cell_type": "markdown",
   "id": "28ef35f5",
   "metadata": {},
   "source": [
    "## Encoding categorical data"
   ]
  },
  {
   "cell_type": "markdown",
   "id": "520cbda6",
   "metadata": {},
   "source": [
    "### i. Aircraft.damage"
   ]
  },
  {
   "cell_type": "code",
   "execution_count": 33,
   "id": "2240ac9e",
   "metadata": {},
   "outputs": [
    {
     "data": {
      "text/plain": [
       "Substantial    30184\n",
       "Destroyed       4370\n",
       "Minor            299\n",
       "Unknown           51\n",
       "Name: Aircraft.damage, dtype: int64"
      ]
     },
     "execution_count": 33,
     "metadata": {},
     "output_type": "execute_result"
    }
   ],
   "source": [
    "df['Aircraft.damage'].value_counts()"
   ]
  },
  {
   "cell_type": "markdown",
   "id": "1614b89a",
   "metadata": {},
   "source": [
    "#### As it only contains 4 category. Let's use Label Encoding"
   ]
  },
  {
   "cell_type": "code",
   "execution_count": 34,
   "id": "fe054f9f",
   "metadata": {},
   "outputs": [],
   "source": [
    "from sklearn.preprocessing import LabelEncoder\n",
    "\n",
    "label_encoder = LabelEncoder()"
   ]
  },
  {
   "cell_type": "code",
   "execution_count": 35,
   "id": "378b1c8d",
   "metadata": {},
   "outputs": [],
   "source": [
    "df['Aircraft.damage'] = label_encoder.fit_transform(df['Aircraft.damage'])"
   ]
  },
  {
   "cell_type": "markdown",
   "id": "5e124608",
   "metadata": {},
   "source": [
    "### ii. Make"
   ]
  },
  {
   "cell_type": "code",
   "execution_count": 36,
   "id": "1276e33a",
   "metadata": {},
   "outputs": [
    {
     "data": {
      "text/plain": [
       "Cessna            9461\n",
       "Piper             5356\n",
       "Beech             1966\n",
       "Bell               889\n",
       "Mooney             537\n",
       "                  ... \n",
       "Degelia              1\n",
       "Lambert John G       1\n",
       "Indus                1\n",
       "Dusenberry           1\n",
       "Royse Ralph L        1\n",
       "Name: Make, Length: 5043, dtype: int64"
      ]
     },
     "execution_count": 36,
     "metadata": {},
     "output_type": "execute_result"
    }
   ],
   "source": [
    "df['Make'].value_counts()"
   ]
  },
  {
   "cell_type": "markdown",
   "id": "f0871414",
   "metadata": {},
   "source": [
    "### Large number of unique categorical values (5043 in this case), then let's use Hashing-based Encoder instead of One-Hot Encoding or Label Encoding."
   ]
  },
  {
   "cell_type": "markdown",
   "id": "461bd4e3",
   "metadata": {},
   "source": [
    "### Why Hashing-based Encoder?\n",
    "Answer : The main advantage of using HashingVectorizer over other categorical encoding techniques like One-Hot Encoding or Label Encoding is that it can handle a large number of unique categorical values without increasing the dimensionality of your feature space too much. This can be particularly useful when dealing with datasets that have a large number of categorical features or when the number of unique categorical values is very high."
   ]
  },
  {
   "cell_type": "code",
   "execution_count": 37,
   "id": "9214a01b",
   "metadata": {},
   "outputs": [],
   "source": [
    "from sklearn.feature_extraction.text import HashingVectorizer"
   ]
  },
  {
   "cell_type": "code",
   "execution_count": 38,
   "id": "c2df8252",
   "metadata": {},
   "outputs": [],
   "source": [
    "vectorizer = HashingVectorizer(n_features=10)\n",
    "hashed_features = vectorizer.fit_transform(df['Make'])"
   ]
  },
  {
   "cell_type": "code",
   "execution_count": 39,
   "id": "fddbc094",
   "metadata": {},
   "outputs": [],
   "source": [
    "feature_names = ['makers' + str(i) for i in range(10)]"
   ]
  },
  {
   "cell_type": "code",
   "execution_count": 40,
   "id": "a0cb6f94",
   "metadata": {},
   "outputs": [],
   "source": [
    "makers_df = pd.DataFrame(hashed_features.toarray(), columns=feature_names)"
   ]
  },
  {
   "cell_type": "code",
   "execution_count": 41,
   "id": "75bbaaeb",
   "metadata": {},
   "outputs": [
    {
     "data": {
      "text/html": [
       "<div>\n",
       "<style scoped>\n",
       "    .dataframe tbody tr th:only-of-type {\n",
       "        vertical-align: middle;\n",
       "    }\n",
       "\n",
       "    .dataframe tbody tr th {\n",
       "        vertical-align: top;\n",
       "    }\n",
       "\n",
       "    .dataframe thead th {\n",
       "        text-align: right;\n",
       "    }\n",
       "</style>\n",
       "<table border=\"1\" class=\"dataframe\">\n",
       "  <thead>\n",
       "    <tr style=\"text-align: right;\">\n",
       "      <th></th>\n",
       "      <th>makers0</th>\n",
       "      <th>makers1</th>\n",
       "      <th>makers2</th>\n",
       "      <th>makers3</th>\n",
       "      <th>makers4</th>\n",
       "      <th>makers5</th>\n",
       "      <th>makers6</th>\n",
       "      <th>makers7</th>\n",
       "      <th>makers8</th>\n",
       "      <th>makers9</th>\n",
       "    </tr>\n",
       "  </thead>\n",
       "  <tbody>\n",
       "    <tr>\n",
       "      <th>0</th>\n",
       "      <td>0.0</td>\n",
       "      <td>0.0</td>\n",
       "      <td>0.0</td>\n",
       "      <td>0.0</td>\n",
       "      <td>0.0</td>\n",
       "      <td>0.0</td>\n",
       "      <td>0.0</td>\n",
       "      <td>0.0</td>\n",
       "      <td>-1.0</td>\n",
       "      <td>0.0</td>\n",
       "    </tr>\n",
       "    <tr>\n",
       "      <th>1</th>\n",
       "      <td>0.0</td>\n",
       "      <td>0.0</td>\n",
       "      <td>0.0</td>\n",
       "      <td>0.0</td>\n",
       "      <td>0.0</td>\n",
       "      <td>0.0</td>\n",
       "      <td>1.0</td>\n",
       "      <td>0.0</td>\n",
       "      <td>0.0</td>\n",
       "      <td>0.0</td>\n",
       "    </tr>\n",
       "    <tr>\n",
       "      <th>2</th>\n",
       "      <td>0.0</td>\n",
       "      <td>0.0</td>\n",
       "      <td>0.0</td>\n",
       "      <td>0.0</td>\n",
       "      <td>0.0</td>\n",
       "      <td>0.0</td>\n",
       "      <td>0.0</td>\n",
       "      <td>0.0</td>\n",
       "      <td>-1.0</td>\n",
       "      <td>0.0</td>\n",
       "    </tr>\n",
       "    <tr>\n",
       "      <th>3</th>\n",
       "      <td>0.0</td>\n",
       "      <td>0.0</td>\n",
       "      <td>0.0</td>\n",
       "      <td>0.0</td>\n",
       "      <td>0.0</td>\n",
       "      <td>0.0</td>\n",
       "      <td>0.0</td>\n",
       "      <td>0.0</td>\n",
       "      <td>-1.0</td>\n",
       "      <td>0.0</td>\n",
       "    </tr>\n",
       "    <tr>\n",
       "      <th>4</th>\n",
       "      <td>0.0</td>\n",
       "      <td>0.0</td>\n",
       "      <td>0.0</td>\n",
       "      <td>0.0</td>\n",
       "      <td>0.0</td>\n",
       "      <td>-1.0</td>\n",
       "      <td>0.0</td>\n",
       "      <td>0.0</td>\n",
       "      <td>0.0</td>\n",
       "      <td>0.0</td>\n",
       "    </tr>\n",
       "  </tbody>\n",
       "</table>\n",
       "</div>"
      ],
      "text/plain": [
       "   makers0  makers1  makers2  makers3  makers4  makers5  makers6  makers7  \\\n",
       "0      0.0      0.0      0.0      0.0      0.0      0.0      0.0      0.0   \n",
       "1      0.0      0.0      0.0      0.0      0.0      0.0      1.0      0.0   \n",
       "2      0.0      0.0      0.0      0.0      0.0      0.0      0.0      0.0   \n",
       "3      0.0      0.0      0.0      0.0      0.0      0.0      0.0      0.0   \n",
       "4      0.0      0.0      0.0      0.0      0.0     -1.0      0.0      0.0   \n",
       "\n",
       "   makers8  makers9  \n",
       "0     -1.0      0.0  \n",
       "1      0.0      0.0  \n",
       "2     -1.0      0.0  \n",
       "3     -1.0      0.0  \n",
       "4      0.0      0.0  "
      ]
     },
     "execution_count": 41,
     "metadata": {},
     "output_type": "execute_result"
    }
   ],
   "source": [
    "makers_df.head()"
   ]
  },
  {
   "cell_type": "code",
   "execution_count": 42,
   "id": "82813b48",
   "metadata": {},
   "outputs": [],
   "source": [
    "df = df.drop(['Make'], axis=1)"
   ]
  },
  {
   "cell_type": "code",
   "execution_count": 43,
   "id": "7c108338",
   "metadata": {},
   "outputs": [],
   "source": [
    "df = pd.concat([df, makers_df], axis=1)"
   ]
  },
  {
   "cell_type": "code",
   "execution_count": 44,
   "id": "cb8805a6",
   "metadata": {},
   "outputs": [
    {
     "data": {
      "text/html": [
       "<div>\n",
       "<style scoped>\n",
       "    .dataframe tbody tr th:only-of-type {\n",
       "        vertical-align: middle;\n",
       "    }\n",
       "\n",
       "    .dataframe tbody tr th {\n",
       "        vertical-align: top;\n",
       "    }\n",
       "\n",
       "    .dataframe thead th {\n",
       "        text-align: right;\n",
       "    }\n",
       "</style>\n",
       "<table border=\"1\" class=\"dataframe\">\n",
       "  <thead>\n",
       "    <tr style=\"text-align: right;\">\n",
       "      <th></th>\n",
       "      <th>Aircraft.damage</th>\n",
       "      <th>Model</th>\n",
       "      <th>Amateur.Built</th>\n",
       "      <th>Number.of.Engines</th>\n",
       "      <th>Engine.Type</th>\n",
       "      <th>Purpose.of.flight</th>\n",
       "      <th>Weather.Condition</th>\n",
       "      <th>Date.Year</th>\n",
       "      <th>Date.Month</th>\n",
       "      <th>Date.Day</th>\n",
       "      <th>...</th>\n",
       "      <th>makers0</th>\n",
       "      <th>makers1</th>\n",
       "      <th>makers2</th>\n",
       "      <th>makers3</th>\n",
       "      <th>makers4</th>\n",
       "      <th>makers5</th>\n",
       "      <th>makers6</th>\n",
       "      <th>makers7</th>\n",
       "      <th>makers8</th>\n",
       "      <th>makers9</th>\n",
       "    </tr>\n",
       "  </thead>\n",
       "  <tbody>\n",
       "    <tr>\n",
       "      <th>0</th>\n",
       "      <td>2</td>\n",
       "      <td>550</td>\n",
       "      <td>False</td>\n",
       "      <td>2.0</td>\n",
       "      <td>Turbo Fan</td>\n",
       "      <td>Positioning</td>\n",
       "      <td>VMC</td>\n",
       "      <td>2000</td>\n",
       "      <td>1</td>\n",
       "      <td>1</td>\n",
       "      <td>...</td>\n",
       "      <td>0.0</td>\n",
       "      <td>0.0</td>\n",
       "      <td>0.0</td>\n",
       "      <td>0.0</td>\n",
       "      <td>0.0</td>\n",
       "      <td>0.0</td>\n",
       "      <td>0.0</td>\n",
       "      <td>0.0</td>\n",
       "      <td>-1.0</td>\n",
       "      <td>0.0</td>\n",
       "    </tr>\n",
       "    <tr>\n",
       "      <th>1</th>\n",
       "      <td>0</td>\n",
       "      <td>BL-17-30A</td>\n",
       "      <td>False</td>\n",
       "      <td>1.0</td>\n",
       "      <td>Reciprocating</td>\n",
       "      <td>Personal</td>\n",
       "      <td>IMC</td>\n",
       "      <td>2000</td>\n",
       "      <td>1</td>\n",
       "      <td>1</td>\n",
       "      <td>...</td>\n",
       "      <td>0.0</td>\n",
       "      <td>0.0</td>\n",
       "      <td>0.0</td>\n",
       "      <td>0.0</td>\n",
       "      <td>0.0</td>\n",
       "      <td>0.0</td>\n",
       "      <td>1.0</td>\n",
       "      <td>0.0</td>\n",
       "      <td>0.0</td>\n",
       "      <td>0.0</td>\n",
       "    </tr>\n",
       "    <tr>\n",
       "      <th>2</th>\n",
       "      <td>2</td>\n",
       "      <td>172G</td>\n",
       "      <td>False</td>\n",
       "      <td>1.0</td>\n",
       "      <td>Reciprocating</td>\n",
       "      <td>Personal</td>\n",
       "      <td>VMC</td>\n",
       "      <td>2000</td>\n",
       "      <td>1</td>\n",
       "      <td>2</td>\n",
       "      <td>...</td>\n",
       "      <td>0.0</td>\n",
       "      <td>0.0</td>\n",
       "      <td>0.0</td>\n",
       "      <td>0.0</td>\n",
       "      <td>0.0</td>\n",
       "      <td>0.0</td>\n",
       "      <td>0.0</td>\n",
       "      <td>0.0</td>\n",
       "      <td>-1.0</td>\n",
       "      <td>0.0</td>\n",
       "    </tr>\n",
       "    <tr>\n",
       "      <th>3</th>\n",
       "      <td>2</td>\n",
       "      <td>172A</td>\n",
       "      <td>False</td>\n",
       "      <td>1.0</td>\n",
       "      <td>Reciprocating</td>\n",
       "      <td>Instructional</td>\n",
       "      <td>VMC</td>\n",
       "      <td>2000</td>\n",
       "      <td>1</td>\n",
       "      <td>2</td>\n",
       "      <td>...</td>\n",
       "      <td>0.0</td>\n",
       "      <td>0.0</td>\n",
       "      <td>0.0</td>\n",
       "      <td>0.0</td>\n",
       "      <td>0.0</td>\n",
       "      <td>0.0</td>\n",
       "      <td>0.0</td>\n",
       "      <td>0.0</td>\n",
       "      <td>-1.0</td>\n",
       "      <td>0.0</td>\n",
       "    </tr>\n",
       "    <tr>\n",
       "      <th>4</th>\n",
       "      <td>2</td>\n",
       "      <td>PA-46-310P</td>\n",
       "      <td>False</td>\n",
       "      <td>1.0</td>\n",
       "      <td>Turbo Prop</td>\n",
       "      <td>Personal</td>\n",
       "      <td>VMC</td>\n",
       "      <td>2000</td>\n",
       "      <td>1</td>\n",
       "      <td>2</td>\n",
       "      <td>...</td>\n",
       "      <td>0.0</td>\n",
       "      <td>0.0</td>\n",
       "      <td>0.0</td>\n",
       "      <td>0.0</td>\n",
       "      <td>0.0</td>\n",
       "      <td>-1.0</td>\n",
       "      <td>0.0</td>\n",
       "      <td>0.0</td>\n",
       "      <td>0.0</td>\n",
       "      <td>0.0</td>\n",
       "    </tr>\n",
       "  </tbody>\n",
       "</table>\n",
       "<p>5 rows × 22 columns</p>\n",
       "</div>"
      ],
      "text/plain": [
       "   Aircraft.damage       Model  Amateur.Built  Number.of.Engines  \\\n",
       "0                2         550          False                2.0   \n",
       "1                0   BL-17-30A          False                1.0   \n",
       "2                2        172G          False                1.0   \n",
       "3                2        172A          False                1.0   \n",
       "4                2  PA-46-310P          False                1.0   \n",
       "\n",
       "     Engine.Type Purpose.of.flight Weather.Condition  Date.Year  Date.Month  \\\n",
       "0      Turbo Fan       Positioning               VMC       2000           1   \n",
       "1  Reciprocating          Personal               IMC       2000           1   \n",
       "2  Reciprocating          Personal               VMC       2000           1   \n",
       "3  Reciprocating     Instructional               VMC       2000           1   \n",
       "4     Turbo Prop          Personal               VMC       2000           1   \n",
       "\n",
       "   Date.Day  ... makers0 makers1  makers2  makers3  makers4  makers5  makers6  \\\n",
       "0         1  ...     0.0     0.0      0.0      0.0      0.0      0.0      0.0   \n",
       "1         1  ...     0.0     0.0      0.0      0.0      0.0      0.0      1.0   \n",
       "2         2  ...     0.0     0.0      0.0      0.0      0.0      0.0      0.0   \n",
       "3         2  ...     0.0     0.0      0.0      0.0      0.0      0.0      0.0   \n",
       "4         2  ...     0.0     0.0      0.0      0.0      0.0     -1.0      0.0   \n",
       "\n",
       "   makers7  makers8  makers9  \n",
       "0      0.0     -1.0      0.0  \n",
       "1      0.0      0.0      0.0  \n",
       "2      0.0     -1.0      0.0  \n",
       "3      0.0     -1.0      0.0  \n",
       "4      0.0      0.0      0.0  \n",
       "\n",
       "[5 rows x 22 columns]"
      ]
     },
     "execution_count": 44,
     "metadata": {},
     "output_type": "execute_result"
    }
   ],
   "source": [
    "df.head()"
   ]
  },
  {
   "cell_type": "markdown",
   "id": "1b4ee775",
   "metadata": {},
   "source": [
    "### iii. Model"
   ]
  },
  {
   "cell_type": "code",
   "execution_count": 45,
   "id": "86f4ff9c",
   "metadata": {},
   "outputs": [
    {
     "data": {
      "text/plain": [
       "172                 775\n",
       "152                 501\n",
       "172N                393\n",
       "172S                358\n",
       "172M                284\n",
       "                   ... \n",
       "SR3500 Moose          1\n",
       "U206-C                1\n",
       "FJ-1                  1\n",
       "Wheeler Exp 2000      1\n",
       "A330-243              1\n",
       "Name: Model, Length: 7021, dtype: int64"
      ]
     },
     "execution_count": 45,
     "metadata": {},
     "output_type": "execute_result"
    }
   ],
   "source": [
    "df['Model'].value_counts()"
   ]
  },
  {
   "cell_type": "markdown",
   "id": "f3b76dbe",
   "metadata": {},
   "source": [
    "#### Let's use Hashing based encoding"
   ]
  },
  {
   "cell_type": "code",
   "execution_count": 46,
   "id": "286b0ccd",
   "metadata": {},
   "outputs": [],
   "source": [
    "vectorizer = HashingVectorizer(n_features=10)\n",
    "hashed_features = vectorizer.fit_transform(df['Model'])"
   ]
  },
  {
   "cell_type": "code",
   "execution_count": 47,
   "id": "92df5835",
   "metadata": {},
   "outputs": [],
   "source": [
    "feature_names = ['model' + str(i) for i in range(10)]"
   ]
  },
  {
   "cell_type": "code",
   "execution_count": 48,
   "id": "45edaab0",
   "metadata": {},
   "outputs": [],
   "source": [
    "makers_df = pd.DataFrame(hashed_features.toarray(), columns=feature_names)"
   ]
  },
  {
   "cell_type": "code",
   "execution_count": 49,
   "id": "b8bdfaa1",
   "metadata": {},
   "outputs": [],
   "source": [
    "df = df.drop(['Model'], axis=1)\n",
    "df = pd.concat([df, makers_df], axis=1)"
   ]
  },
  {
   "cell_type": "code",
   "execution_count": 50,
   "id": "5fbb5aa0",
   "metadata": {},
   "outputs": [
    {
     "data": {
      "text/html": [
       "<div>\n",
       "<style scoped>\n",
       "    .dataframe tbody tr th:only-of-type {\n",
       "        vertical-align: middle;\n",
       "    }\n",
       "\n",
       "    .dataframe tbody tr th {\n",
       "        vertical-align: top;\n",
       "    }\n",
       "\n",
       "    .dataframe thead th {\n",
       "        text-align: right;\n",
       "    }\n",
       "</style>\n",
       "<table border=\"1\" class=\"dataframe\">\n",
       "  <thead>\n",
       "    <tr style=\"text-align: right;\">\n",
       "      <th></th>\n",
       "      <th>Aircraft.damage</th>\n",
       "      <th>Amateur.Built</th>\n",
       "      <th>Number.of.Engines</th>\n",
       "      <th>Engine.Type</th>\n",
       "      <th>Purpose.of.flight</th>\n",
       "      <th>Weather.Condition</th>\n",
       "      <th>Date.Year</th>\n",
       "      <th>Date.Month</th>\n",
       "      <th>Date.Day</th>\n",
       "      <th>City</th>\n",
       "      <th>...</th>\n",
       "      <th>model0</th>\n",
       "      <th>model1</th>\n",
       "      <th>model2</th>\n",
       "      <th>model3</th>\n",
       "      <th>model4</th>\n",
       "      <th>model5</th>\n",
       "      <th>model6</th>\n",
       "      <th>model7</th>\n",
       "      <th>model8</th>\n",
       "      <th>model9</th>\n",
       "    </tr>\n",
       "  </thead>\n",
       "  <tbody>\n",
       "    <tr>\n",
       "      <th>0</th>\n",
       "      <td>2</td>\n",
       "      <td>False</td>\n",
       "      <td>2.0</td>\n",
       "      <td>Turbo Fan</td>\n",
       "      <td>Positioning</td>\n",
       "      <td>VMC</td>\n",
       "      <td>2000</td>\n",
       "      <td>1</td>\n",
       "      <td>1</td>\n",
       "      <td>HOMESTEAD</td>\n",
       "      <td>...</td>\n",
       "      <td>0.0</td>\n",
       "      <td>0.00000</td>\n",
       "      <td>0.0</td>\n",
       "      <td>0.0</td>\n",
       "      <td>0.00000</td>\n",
       "      <td>0.00000</td>\n",
       "      <td>0.0</td>\n",
       "      <td>0.0</td>\n",
       "      <td>-1.0</td>\n",
       "      <td>0.0</td>\n",
       "    </tr>\n",
       "    <tr>\n",
       "      <th>1</th>\n",
       "      <td>0</td>\n",
       "      <td>False</td>\n",
       "      <td>1.0</td>\n",
       "      <td>Reciprocating</td>\n",
       "      <td>Personal</td>\n",
       "      <td>IMC</td>\n",
       "      <td>2000</td>\n",
       "      <td>1</td>\n",
       "      <td>1</td>\n",
       "      <td>MONTEAGLE</td>\n",
       "      <td>...</td>\n",
       "      <td>0.0</td>\n",
       "      <td>0.00000</td>\n",
       "      <td>0.0</td>\n",
       "      <td>1.0</td>\n",
       "      <td>0.00000</td>\n",
       "      <td>0.00000</td>\n",
       "      <td>0.0</td>\n",
       "      <td>0.0</td>\n",
       "      <td>0.0</td>\n",
       "      <td>0.0</td>\n",
       "    </tr>\n",
       "    <tr>\n",
       "      <th>2</th>\n",
       "      <td>2</td>\n",
       "      <td>False</td>\n",
       "      <td>1.0</td>\n",
       "      <td>Reciprocating</td>\n",
       "      <td>Personal</td>\n",
       "      <td>VMC</td>\n",
       "      <td>2000</td>\n",
       "      <td>1</td>\n",
       "      <td>2</td>\n",
       "      <td>VICTORVILLE</td>\n",
       "      <td>...</td>\n",
       "      <td>0.0</td>\n",
       "      <td>0.00000</td>\n",
       "      <td>0.0</td>\n",
       "      <td>0.0</td>\n",
       "      <td>0.00000</td>\n",
       "      <td>0.00000</td>\n",
       "      <td>0.0</td>\n",
       "      <td>1.0</td>\n",
       "      <td>0.0</td>\n",
       "      <td>0.0</td>\n",
       "    </tr>\n",
       "    <tr>\n",
       "      <th>3</th>\n",
       "      <td>2</td>\n",
       "      <td>False</td>\n",
       "      <td>1.0</td>\n",
       "      <td>Reciprocating</td>\n",
       "      <td>Instructional</td>\n",
       "      <td>VMC</td>\n",
       "      <td>2000</td>\n",
       "      <td>1</td>\n",
       "      <td>2</td>\n",
       "      <td>DOS PALOS</td>\n",
       "      <td>...</td>\n",
       "      <td>1.0</td>\n",
       "      <td>0.00000</td>\n",
       "      <td>0.0</td>\n",
       "      <td>0.0</td>\n",
       "      <td>0.00000</td>\n",
       "      <td>0.00000</td>\n",
       "      <td>0.0</td>\n",
       "      <td>0.0</td>\n",
       "      <td>0.0</td>\n",
       "      <td>0.0</td>\n",
       "    </tr>\n",
       "    <tr>\n",
       "      <th>4</th>\n",
       "      <td>2</td>\n",
       "      <td>False</td>\n",
       "      <td>1.0</td>\n",
       "      <td>Turbo Prop</td>\n",
       "      <td>Personal</td>\n",
       "      <td>VMC</td>\n",
       "      <td>2000</td>\n",
       "      <td>1</td>\n",
       "      <td>2</td>\n",
       "      <td>CORNING</td>\n",
       "      <td>...</td>\n",
       "      <td>0.0</td>\n",
       "      <td>-0.57735</td>\n",
       "      <td>0.0</td>\n",
       "      <td>0.0</td>\n",
       "      <td>-0.57735</td>\n",
       "      <td>-0.57735</td>\n",
       "      <td>0.0</td>\n",
       "      <td>0.0</td>\n",
       "      <td>0.0</td>\n",
       "      <td>0.0</td>\n",
       "    </tr>\n",
       "  </tbody>\n",
       "</table>\n",
       "<p>5 rows × 31 columns</p>\n",
       "</div>"
      ],
      "text/plain": [
       "   Aircraft.damage  Amateur.Built  Number.of.Engines    Engine.Type  \\\n",
       "0                2          False                2.0      Turbo Fan   \n",
       "1                0          False                1.0  Reciprocating   \n",
       "2                2          False                1.0  Reciprocating   \n",
       "3                2          False                1.0  Reciprocating   \n",
       "4                2          False                1.0     Turbo Prop   \n",
       "\n",
       "  Purpose.of.flight Weather.Condition  Date.Year  Date.Month  Date.Day  \\\n",
       "0       Positioning               VMC       2000           1         1   \n",
       "1          Personal               IMC       2000           1         1   \n",
       "2          Personal               VMC       2000           1         2   \n",
       "3     Instructional               VMC       2000           1         2   \n",
       "4          Personal               VMC       2000           1         2   \n",
       "\n",
       "          City  ... model0   model1  model2  model3   model4   model5  model6  \\\n",
       "0    HOMESTEAD  ...    0.0  0.00000     0.0     0.0  0.00000  0.00000     0.0   \n",
       "1    MONTEAGLE  ...    0.0  0.00000     0.0     1.0  0.00000  0.00000     0.0   \n",
       "2  VICTORVILLE  ...    0.0  0.00000     0.0     0.0  0.00000  0.00000     0.0   \n",
       "3    DOS PALOS  ...    1.0  0.00000     0.0     0.0  0.00000  0.00000     0.0   \n",
       "4      CORNING  ...    0.0 -0.57735     0.0     0.0 -0.57735 -0.57735     0.0   \n",
       "\n",
       "   model7  model8  model9  \n",
       "0     0.0    -1.0     0.0  \n",
       "1     0.0     0.0     0.0  \n",
       "2     1.0     0.0     0.0  \n",
       "3     0.0     0.0     0.0  \n",
       "4     0.0     0.0     0.0  \n",
       "\n",
       "[5 rows x 31 columns]"
      ]
     },
     "execution_count": 50,
     "metadata": {},
     "output_type": "execute_result"
    }
   ],
   "source": [
    "df.head()"
   ]
  },
  {
   "cell_type": "markdown",
   "id": "2488a5fe",
   "metadata": {},
   "source": [
    "### iv. Amateur.Build"
   ]
  },
  {
   "cell_type": "code",
   "execution_count": 51,
   "id": "b63cbc28",
   "metadata": {},
   "outputs": [
    {
     "data": {
      "text/plain": [
       "False    30343\n",
       "True      4561\n",
       "Name: Amateur.Built, dtype: int64"
      ]
     },
     "execution_count": 51,
     "metadata": {},
     "output_type": "execute_result"
    }
   ],
   "source": [
    "df['Amateur.Built'].value_counts()"
   ]
  },
  {
   "cell_type": "markdown",
   "id": "86443b40",
   "metadata": {},
   "source": [
    "#### Let's use label encoding"
   ]
  },
  {
   "cell_type": "code",
   "execution_count": 52,
   "id": "879aa7af",
   "metadata": {},
   "outputs": [],
   "source": [
    "from sklearn.preprocessing import LabelEncoder\n",
    "\n",
    "label_encoder = LabelEncoder()"
   ]
  },
  {
   "cell_type": "code",
   "execution_count": 53,
   "id": "567ce1a2",
   "metadata": {},
   "outputs": [],
   "source": [
    "df['Amateur.Built'] = label_encoder.fit_transform(df['Amateur.Built'])"
   ]
  },
  {
   "cell_type": "code",
   "execution_count": 54,
   "id": "357c84c8",
   "metadata": {},
   "outputs": [
    {
     "data": {
      "text/html": [
       "<div>\n",
       "<style scoped>\n",
       "    .dataframe tbody tr th:only-of-type {\n",
       "        vertical-align: middle;\n",
       "    }\n",
       "\n",
       "    .dataframe tbody tr th {\n",
       "        vertical-align: top;\n",
       "    }\n",
       "\n",
       "    .dataframe thead th {\n",
       "        text-align: right;\n",
       "    }\n",
       "</style>\n",
       "<table border=\"1\" class=\"dataframe\">\n",
       "  <thead>\n",
       "    <tr style=\"text-align: right;\">\n",
       "      <th></th>\n",
       "      <th>Aircraft.damage</th>\n",
       "      <th>Amateur.Built</th>\n",
       "      <th>Number.of.Engines</th>\n",
       "      <th>Engine.Type</th>\n",
       "      <th>Purpose.of.flight</th>\n",
       "      <th>Weather.Condition</th>\n",
       "      <th>Date.Year</th>\n",
       "      <th>Date.Month</th>\n",
       "      <th>Date.Day</th>\n",
       "      <th>City</th>\n",
       "      <th>...</th>\n",
       "      <th>model0</th>\n",
       "      <th>model1</th>\n",
       "      <th>model2</th>\n",
       "      <th>model3</th>\n",
       "      <th>model4</th>\n",
       "      <th>model5</th>\n",
       "      <th>model6</th>\n",
       "      <th>model7</th>\n",
       "      <th>model8</th>\n",
       "      <th>model9</th>\n",
       "    </tr>\n",
       "  </thead>\n",
       "  <tbody>\n",
       "    <tr>\n",
       "      <th>0</th>\n",
       "      <td>2</td>\n",
       "      <td>0</td>\n",
       "      <td>2.0</td>\n",
       "      <td>Turbo Fan</td>\n",
       "      <td>Positioning</td>\n",
       "      <td>VMC</td>\n",
       "      <td>2000</td>\n",
       "      <td>1</td>\n",
       "      <td>1</td>\n",
       "      <td>HOMESTEAD</td>\n",
       "      <td>...</td>\n",
       "      <td>0.0</td>\n",
       "      <td>0.00000</td>\n",
       "      <td>0.0</td>\n",
       "      <td>0.0</td>\n",
       "      <td>0.00000</td>\n",
       "      <td>0.00000</td>\n",
       "      <td>0.0</td>\n",
       "      <td>0.0</td>\n",
       "      <td>-1.0</td>\n",
       "      <td>0.0</td>\n",
       "    </tr>\n",
       "    <tr>\n",
       "      <th>1</th>\n",
       "      <td>0</td>\n",
       "      <td>0</td>\n",
       "      <td>1.0</td>\n",
       "      <td>Reciprocating</td>\n",
       "      <td>Personal</td>\n",
       "      <td>IMC</td>\n",
       "      <td>2000</td>\n",
       "      <td>1</td>\n",
       "      <td>1</td>\n",
       "      <td>MONTEAGLE</td>\n",
       "      <td>...</td>\n",
       "      <td>0.0</td>\n",
       "      <td>0.00000</td>\n",
       "      <td>0.0</td>\n",
       "      <td>1.0</td>\n",
       "      <td>0.00000</td>\n",
       "      <td>0.00000</td>\n",
       "      <td>0.0</td>\n",
       "      <td>0.0</td>\n",
       "      <td>0.0</td>\n",
       "      <td>0.0</td>\n",
       "    </tr>\n",
       "    <tr>\n",
       "      <th>2</th>\n",
       "      <td>2</td>\n",
       "      <td>0</td>\n",
       "      <td>1.0</td>\n",
       "      <td>Reciprocating</td>\n",
       "      <td>Personal</td>\n",
       "      <td>VMC</td>\n",
       "      <td>2000</td>\n",
       "      <td>1</td>\n",
       "      <td>2</td>\n",
       "      <td>VICTORVILLE</td>\n",
       "      <td>...</td>\n",
       "      <td>0.0</td>\n",
       "      <td>0.00000</td>\n",
       "      <td>0.0</td>\n",
       "      <td>0.0</td>\n",
       "      <td>0.00000</td>\n",
       "      <td>0.00000</td>\n",
       "      <td>0.0</td>\n",
       "      <td>1.0</td>\n",
       "      <td>0.0</td>\n",
       "      <td>0.0</td>\n",
       "    </tr>\n",
       "    <tr>\n",
       "      <th>3</th>\n",
       "      <td>2</td>\n",
       "      <td>0</td>\n",
       "      <td>1.0</td>\n",
       "      <td>Reciprocating</td>\n",
       "      <td>Instructional</td>\n",
       "      <td>VMC</td>\n",
       "      <td>2000</td>\n",
       "      <td>1</td>\n",
       "      <td>2</td>\n",
       "      <td>DOS PALOS</td>\n",
       "      <td>...</td>\n",
       "      <td>1.0</td>\n",
       "      <td>0.00000</td>\n",
       "      <td>0.0</td>\n",
       "      <td>0.0</td>\n",
       "      <td>0.00000</td>\n",
       "      <td>0.00000</td>\n",
       "      <td>0.0</td>\n",
       "      <td>0.0</td>\n",
       "      <td>0.0</td>\n",
       "      <td>0.0</td>\n",
       "    </tr>\n",
       "    <tr>\n",
       "      <th>4</th>\n",
       "      <td>2</td>\n",
       "      <td>0</td>\n",
       "      <td>1.0</td>\n",
       "      <td>Turbo Prop</td>\n",
       "      <td>Personal</td>\n",
       "      <td>VMC</td>\n",
       "      <td>2000</td>\n",
       "      <td>1</td>\n",
       "      <td>2</td>\n",
       "      <td>CORNING</td>\n",
       "      <td>...</td>\n",
       "      <td>0.0</td>\n",
       "      <td>-0.57735</td>\n",
       "      <td>0.0</td>\n",
       "      <td>0.0</td>\n",
       "      <td>-0.57735</td>\n",
       "      <td>-0.57735</td>\n",
       "      <td>0.0</td>\n",
       "      <td>0.0</td>\n",
       "      <td>0.0</td>\n",
       "      <td>0.0</td>\n",
       "    </tr>\n",
       "  </tbody>\n",
       "</table>\n",
       "<p>5 rows × 31 columns</p>\n",
       "</div>"
      ],
      "text/plain": [
       "   Aircraft.damage  Amateur.Built  Number.of.Engines    Engine.Type  \\\n",
       "0                2              0                2.0      Turbo Fan   \n",
       "1                0              0                1.0  Reciprocating   \n",
       "2                2              0                1.0  Reciprocating   \n",
       "3                2              0                1.0  Reciprocating   \n",
       "4                2              0                1.0     Turbo Prop   \n",
       "\n",
       "  Purpose.of.flight Weather.Condition  Date.Year  Date.Month  Date.Day  \\\n",
       "0       Positioning               VMC       2000           1         1   \n",
       "1          Personal               IMC       2000           1         1   \n",
       "2          Personal               VMC       2000           1         2   \n",
       "3     Instructional               VMC       2000           1         2   \n",
       "4          Personal               VMC       2000           1         2   \n",
       "\n",
       "          City  ... model0   model1  model2  model3   model4   model5  model6  \\\n",
       "0    HOMESTEAD  ...    0.0  0.00000     0.0     0.0  0.00000  0.00000     0.0   \n",
       "1    MONTEAGLE  ...    0.0  0.00000     0.0     1.0  0.00000  0.00000     0.0   \n",
       "2  VICTORVILLE  ...    0.0  0.00000     0.0     0.0  0.00000  0.00000     0.0   \n",
       "3    DOS PALOS  ...    1.0  0.00000     0.0     0.0  0.00000  0.00000     0.0   \n",
       "4      CORNING  ...    0.0 -0.57735     0.0     0.0 -0.57735 -0.57735     0.0   \n",
       "\n",
       "   model7  model8  model9  \n",
       "0     0.0    -1.0     0.0  \n",
       "1     0.0     0.0     0.0  \n",
       "2     1.0     0.0     0.0  \n",
       "3     0.0     0.0     0.0  \n",
       "4     0.0     0.0     0.0  \n",
       "\n",
       "[5 rows x 31 columns]"
      ]
     },
     "execution_count": 54,
     "metadata": {},
     "output_type": "execute_result"
    }
   ],
   "source": [
    "df.head()"
   ]
  },
  {
   "cell_type": "markdown",
   "id": "49889de4",
   "metadata": {},
   "source": [
    "### v. Engine.Type"
   ]
  },
  {
   "cell_type": "code",
   "execution_count": 55,
   "id": "d1ba438c",
   "metadata": {},
   "outputs": [
    {
     "data": {
      "text/plain": [
       "Reciprocating    30029\n",
       "Turbo Shaft       1998\n",
       "Turbo Prop        1747\n",
       "Turbo Fan          793\n",
       "Turbo Jet          214\n",
       "Unknown             83\n",
       "None                22\n",
       "Electric            11\n",
       "NONE                 3\n",
       "LR                   2\n",
       "Hybrid Rocket        1\n",
       "UNK                  1\n",
       "Name: Engine.Type, dtype: int64"
      ]
     },
     "execution_count": 55,
     "metadata": {},
     "output_type": "execute_result"
    }
   ],
   "source": [
    "df['Engine.Type'].value_counts()"
   ]
  },
  {
   "cell_type": "markdown",
   "id": "7f781e32",
   "metadata": {},
   "source": [
    "#### let's use ordinalEncoder encoding"
   ]
  },
  {
   "cell_type": "code",
   "execution_count": 56,
   "id": "3c0bae4e",
   "metadata": {},
   "outputs": [],
   "source": [
    "from sklearn.preprocessing import OrdinalEncoder\n",
    "\n",
    "ordinal_encoder = OrdinalEncoder()"
   ]
  },
  {
   "cell_type": "code",
   "execution_count": 57,
   "id": "d611a551",
   "metadata": {},
   "outputs": [],
   "source": [
    "df['Engine.Type'] = ordinal_encoder.fit_transform(df[['Engine.Type']])"
   ]
  },
  {
   "cell_type": "markdown",
   "id": "055c26c5",
   "metadata": {},
   "source": [
    "### vi. Purpose.of.flight"
   ]
  },
  {
   "cell_type": "code",
   "execution_count": 58,
   "id": "3053d067",
   "metadata": {},
   "outputs": [
    {
     "data": {
      "text/plain": [
       "Personal                     23085\n",
       "Instructional                 4975\n",
       "Aerial Application            1745\n",
       "Business                      1042\n",
       "Positioning                    875\n",
       "Other Work Use                 610\n",
       "Flight Test                    404\n",
       "Aerial Observation             398\n",
       "Unknown                        323\n",
       "Public Aircraft                240\n",
       "Ferry                          192\n",
       "Executive/corporate            163\n",
       "Skydiving                      141\n",
       "External Load                  115\n",
       "Banner Tow                     104\n",
       "Public Aircraft - Federal       99\n",
       "Air Race show                   87\n",
       "Public Aircraft - Local         74\n",
       "Public Aircraft - State         64\n",
       "Air Race/show                   59\n",
       "Glider Tow                      58\n",
       "Firefighting                    29\n",
       "Air Drop                         8\n",
       "PUBS                             7\n",
       "ASHO                             6\n",
       "PUBL                             1\n",
       "Name: Purpose.of.flight, dtype: int64"
      ]
     },
     "execution_count": 58,
     "metadata": {},
     "output_type": "execute_result"
    }
   ],
   "source": [
    "df['Purpose.of.flight'].value_counts()"
   ]
  },
  {
   "cell_type": "markdown",
   "id": "3a8ea703",
   "metadata": {},
   "source": [
    "#### Let's use ordinal encoder here"
   ]
  },
  {
   "cell_type": "code",
   "execution_count": 59,
   "id": "42f1976c",
   "metadata": {},
   "outputs": [],
   "source": [
    "df['Purpose.of.flight'] = ordinal_encoder.fit_transform(df[['Purpose.of.flight']])"
   ]
  },
  {
   "cell_type": "markdown",
   "id": "3ef7a968",
   "metadata": {},
   "source": [
    "### vii. Weather Condition"
   ]
  },
  {
   "cell_type": "code",
   "execution_count": 60,
   "id": "aee0ceee",
   "metadata": {},
   "outputs": [
    {
     "data": {
      "text/plain": [
       "VMC        32923\n",
       "IMC         1868\n",
       "Unknown      113\n",
       "Name: Weather.Condition, dtype: int64"
      ]
     },
     "execution_count": 60,
     "metadata": {},
     "output_type": "execute_result"
    }
   ],
   "source": [
    "df['Weather.Condition'].value_counts()"
   ]
  },
  {
   "cell_type": "markdown",
   "id": "364b4b59",
   "metadata": {},
   "source": [
    "#### Let's use One-Hot encoding"
   ]
  },
  {
   "cell_type": "code",
   "execution_count": 61,
   "id": "8639d9aa",
   "metadata": {},
   "outputs": [],
   "source": [
    "from sklearn.preprocessing import OneHotEncoder\n",
    "encoder = OneHotEncoder()"
   ]
  },
  {
   "cell_type": "code",
   "execution_count": 62,
   "id": "5a2395da",
   "metadata": {},
   "outputs": [],
   "source": [
    "wc_encoded_features = encoder.fit_transform(df[['Weather.Condition']])"
   ]
  },
  {
   "cell_type": "code",
   "execution_count": 63,
   "id": "387f9014",
   "metadata": {},
   "outputs": [],
   "source": [
    "wc_encoded_df = pd.DataFrame(wc_encoded_features.toarray(), columns=encoder.get_feature_names_out())"
   ]
  },
  {
   "cell_type": "code",
   "execution_count": 64,
   "id": "1043b0de",
   "metadata": {},
   "outputs": [
    {
     "data": {
      "text/html": [
       "<div>\n",
       "<style scoped>\n",
       "    .dataframe tbody tr th:only-of-type {\n",
       "        vertical-align: middle;\n",
       "    }\n",
       "\n",
       "    .dataframe tbody tr th {\n",
       "        vertical-align: top;\n",
       "    }\n",
       "\n",
       "    .dataframe thead th {\n",
       "        text-align: right;\n",
       "    }\n",
       "</style>\n",
       "<table border=\"1\" class=\"dataframe\">\n",
       "  <thead>\n",
       "    <tr style=\"text-align: right;\">\n",
       "      <th></th>\n",
       "      <th>Weather.Condition_IMC</th>\n",
       "      <th>Weather.Condition_Unknown</th>\n",
       "      <th>Weather.Condition_VMC</th>\n",
       "    </tr>\n",
       "  </thead>\n",
       "  <tbody>\n",
       "    <tr>\n",
       "      <th>0</th>\n",
       "      <td>0.0</td>\n",
       "      <td>0.0</td>\n",
       "      <td>1.0</td>\n",
       "    </tr>\n",
       "    <tr>\n",
       "      <th>1</th>\n",
       "      <td>1.0</td>\n",
       "      <td>0.0</td>\n",
       "      <td>0.0</td>\n",
       "    </tr>\n",
       "    <tr>\n",
       "      <th>2</th>\n",
       "      <td>0.0</td>\n",
       "      <td>0.0</td>\n",
       "      <td>1.0</td>\n",
       "    </tr>\n",
       "    <tr>\n",
       "      <th>3</th>\n",
       "      <td>0.0</td>\n",
       "      <td>0.0</td>\n",
       "      <td>1.0</td>\n",
       "    </tr>\n",
       "    <tr>\n",
       "      <th>4</th>\n",
       "      <td>0.0</td>\n",
       "      <td>0.0</td>\n",
       "      <td>1.0</td>\n",
       "    </tr>\n",
       "  </tbody>\n",
       "</table>\n",
       "</div>"
      ],
      "text/plain": [
       "   Weather.Condition_IMC  Weather.Condition_Unknown  Weather.Condition_VMC\n",
       "0                    0.0                        0.0                    1.0\n",
       "1                    1.0                        0.0                    0.0\n",
       "2                    0.0                        0.0                    1.0\n",
       "3                    0.0                        0.0                    1.0\n",
       "4                    0.0                        0.0                    1.0"
      ]
     },
     "execution_count": 64,
     "metadata": {},
     "output_type": "execute_result"
    }
   ],
   "source": [
    "wc_encoded_df.head()"
   ]
  },
  {
   "cell_type": "code",
   "execution_count": 65,
   "id": "c8c77f79",
   "metadata": {},
   "outputs": [],
   "source": [
    "df = df.drop(['Weather.Condition'], axis=1)"
   ]
  },
  {
   "cell_type": "code",
   "execution_count": 66,
   "id": "764bd751",
   "metadata": {},
   "outputs": [],
   "source": [
    "df = pd.concat([df, wc_encoded_df], axis=1)"
   ]
  },
  {
   "cell_type": "markdown",
   "id": "ab8f2384",
   "metadata": {},
   "source": [
    "### viii.City"
   ]
  },
  {
   "cell_type": "code",
   "execution_count": 67,
   "id": "5ee07df9",
   "metadata": {},
   "outputs": [
    {
     "data": {
      "text/plain": [
       "Anchorage         102\n",
       "ANCHORAGE          90\n",
       "Phoenix            84\n",
       "Palmer             78\n",
       "Talkeetna          75\n",
       "                 ... \n",
       "FORT BRIDGER        1\n",
       "WEST MIDDLESEX      1\n",
       "COLEMAN             1\n",
       "SHAMOKIN            1\n",
       "Auburn Hills        1\n",
       "Name: City, Length: 10889, dtype: int64"
      ]
     },
     "execution_count": 67,
     "metadata": {},
     "output_type": "execute_result"
    }
   ],
   "source": [
    "df['City'].value_counts()"
   ]
  },
  {
   "cell_type": "markdown",
   "id": "40b57e6a",
   "metadata": {},
   "source": [
    "##### Too much unique value so we can't converge Let's remove this column"
   ]
  },
  {
   "cell_type": "code",
   "execution_count": 68,
   "id": "75709cfd",
   "metadata": {},
   "outputs": [],
   "source": [
    "df = df.drop(['City'], axis=1)"
   ]
  },
  {
   "cell_type": "markdown",
   "id": "cac43aa9",
   "metadata": {},
   "source": [
    "### ix. State"
   ]
  },
  {
   "cell_type": "code",
   "execution_count": 69,
   "id": "6c76ec46",
   "metadata": {},
   "outputs": [
    {
     "data": {
      "text/plain": [
       " CA              3443\n",
       " TX              2685\n",
       " FL              2561\n",
       " AK              2311\n",
       " AZ              1396\n",
       "                 ... \n",
       "Kauai               1\n",
       " NYC                1\n",
       " San Juan Is.       1\n",
       " MG                 1\n",
       " CB                 1\n",
       "Name: State, Length: 69, dtype: int64"
      ]
     },
     "execution_count": 69,
     "metadata": {},
     "output_type": "execute_result"
    }
   ],
   "source": [
    "df['State'].value_counts()"
   ]
  },
  {
   "cell_type": "markdown",
   "id": "78936de8",
   "metadata": {},
   "source": [
    "#### Let's use ordinal encoder here"
   ]
  },
  {
   "cell_type": "code",
   "execution_count": 70,
   "id": "5b497c43",
   "metadata": {},
   "outputs": [],
   "source": [
    "df['State'] = ordinal_encoder.fit_transform(df[['State']])"
   ]
  },
  {
   "cell_type": "markdown",
   "id": "61689f73",
   "metadata": {},
   "source": [
    "## Completed EDA and Preprocessing"
   ]
  },
  {
   "cell_type": "code",
   "execution_count": 71,
   "id": "f03bf396",
   "metadata": {},
   "outputs": [
    {
     "name": "stdout",
     "output_type": "stream",
     "text": [
      "<class 'pandas.core.frame.DataFrame'>\n",
      "RangeIndex: 34904 entries, 0 to 34903\n",
      "Data columns (total 32 columns):\n",
      " #   Column                     Non-Null Count  Dtype  \n",
      "---  ------                     --------------  -----  \n",
      " 0   Aircraft.damage            34904 non-null  int32  \n",
      " 1   Amateur.Built              34904 non-null  int64  \n",
      " 2   Number.of.Engines          34904 non-null  float64\n",
      " 3   Engine.Type                34904 non-null  float64\n",
      " 4   Purpose.of.flight          34904 non-null  float64\n",
      " 5   Date.Year                  34904 non-null  int32  \n",
      " 6   Date.Month                 34904 non-null  int32  \n",
      " 7   Date.Day                   34904 non-null  int32  \n",
      " 8   State                      34904 non-null  float64\n",
      " 9   makers0                    34904 non-null  float64\n",
      " 10  makers1                    34904 non-null  float64\n",
      " 11  makers2                    34904 non-null  float64\n",
      " 12  makers3                    34904 non-null  float64\n",
      " 13  makers4                    34904 non-null  float64\n",
      " 14  makers5                    34904 non-null  float64\n",
      " 15  makers6                    34904 non-null  float64\n",
      " 16  makers7                    34904 non-null  float64\n",
      " 17  makers8                    34904 non-null  float64\n",
      " 18  makers9                    34904 non-null  float64\n",
      " 19  model0                     34904 non-null  float64\n",
      " 20  model1                     34904 non-null  float64\n",
      " 21  model2                     34904 non-null  float64\n",
      " 22  model3                     34904 non-null  float64\n",
      " 23  model4                     34904 non-null  float64\n",
      " 24  model5                     34904 non-null  float64\n",
      " 25  model6                     34904 non-null  float64\n",
      " 26  model7                     34904 non-null  float64\n",
      " 27  model8                     34904 non-null  float64\n",
      " 28  model9                     34904 non-null  float64\n",
      " 29  Weather.Condition_IMC      34904 non-null  float64\n",
      " 30  Weather.Condition_Unknown  34904 non-null  float64\n",
      " 31  Weather.Condition_VMC      34904 non-null  float64\n",
      "dtypes: float64(27), int32(4), int64(1)\n",
      "memory usage: 8.0 MB\n"
     ]
    }
   ],
   "source": [
    "df.info()"
   ]
  },
  {
   "cell_type": "markdown",
   "id": "4cc70486",
   "metadata": {},
   "source": [
    "## Train-Test Split of dataset\n",
    "\n",
    "We will be using StratifiedShuffleSplit. The StratifiedShuffleSplit class ensures that the class distribution is maintained in both the train and test sets, so you don't have to worry about sampling uniformly from each class separately."
   ]
  },
  {
   "cell_type": "code",
   "execution_count": 72,
   "id": "7aad07e9",
   "metadata": {},
   "outputs": [],
   "source": [
    "from sklearn.model_selection import StratifiedShuffleSplit"
   ]
  },
  {
   "cell_type": "code",
   "execution_count": 73,
   "id": "74dcc032",
   "metadata": {},
   "outputs": [],
   "source": [
    "X = df.drop(\"Aircraft.damage\", axis=1)\n",
    "y = df['Aircraft.damage']"
   ]
  },
  {
   "cell_type": "markdown",
   "id": "1574aacb",
   "metadata": {},
   "source": [
    "#### Define the StratifiedShuffleSplit object with n_splits=1 and test_size=0.2"
   ]
  },
  {
   "cell_type": "code",
   "execution_count": 74,
   "id": "08252e39",
   "metadata": {},
   "outputs": [],
   "source": [
    "sss = StratifiedShuffleSplit(n_splits=1, test_size=0.2, random_state=42)"
   ]
  },
  {
   "cell_type": "code",
   "execution_count": 75,
   "id": "4d6db74c",
   "metadata": {},
   "outputs": [],
   "source": [
    "# Use the split method to generate the train and test indices\n",
    "train_idx, test_idx = next(sss.split(X, y))\n",
    "\n",
    "# Create the train and test sets using the generated indices\n",
    "X_train, y_train = X.iloc[train_idx], y.iloc[train_idx]\n",
    "X_test, y_test = X.iloc[test_idx], y.iloc[test_idx]"
   ]
  },
  {
   "cell_type": "markdown",
   "id": "ce0373fa",
   "metadata": {},
   "source": [
    "### Visualization of data in 2D plane using UMAP\n",
    "* UMAP - non-linear and preserves both local and global structure\n",
    "* PCA - linear and only preserves global structure"
   ]
  },
  {
   "cell_type": "markdown",
   "id": "aae34455",
   "metadata": {},
   "source": [
    "At a high level, UMAP uses local manifold approximations and patches\n",
    "together their local fuzzy simplicial set representations to construct a topological representation of the high dimensional data. Given some low dimensional representation of the data, a similar process can be used to construct an equivalent topological representation. UMAP then optimizes the layout of the data representation in the low dimensional space, to minimize the\n",
    "cross-entropy between the two topological representations"
   ]
  },
  {
   "cell_type": "code",
   "execution_count": 76,
   "id": "ae3c129e",
   "metadata": {},
   "outputs": [],
   "source": [
    "import numpy as np\n",
    "import umap\n",
    "import matplotlib.pyplot as plt\n",
    "import seaborn as sns\n",
    "from umap.umap_ import UMAP"
   ]
  },
  {
   "cell_type": "code",
   "execution_count": 79,
   "id": "7735488b",
   "metadata": {},
   "outputs": [
    {
     "name": "stderr",
     "output_type": "stream",
     "text": [
      "C:\\Python\\Python39\\lib\\site-packages\\sklearn\\manifold\\_spectral_embedding.py:260: UserWarning: Graph is not fully connected, spectral embedding may not work as expected.\n",
      "  warnings.warn(\n"
     ]
    }
   ],
   "source": [
    "# let's apply UMAP to the features\n",
    "umap_embeddings = UMAP(n_neighbors=4, min_dist=0.1, n_components=2).fit_transform(X)"
   ]
  },
  {
   "cell_type": "code",
   "execution_count": 80,
   "id": "05c8d119",
   "metadata": {},
   "outputs": [
    {
     "data": {
      "text/plain": [
       "<AxesSubplot:>"
      ]
     },
     "execution_count": 80,
     "metadata": {},
     "output_type": "execute_result"
    },
    {
     "data": {
      "image/png": "[encoded data removed]",
      "text/plain": [
       "<Figure size 432x288 with 1 Axes>"
      ]
     },
     "metadata": {
      "needs_background": "light"
     },
     "output_type": "display_data"
    }
   ],
   "source": [
    "# create a scatter plot of the UMAP embeddings with different colors for each label\n",
    "sns.scatterplot(x=umap_embeddings[:,0], y=umap_embeddings[:,1], hue=y, palette='bright')"
   ]
  },
  {
   "cell_type": "markdown",
   "id": "7405830c",
   "metadata": {},
   "source": [
    "### Visualization of data in 2D plane using t-SNE"
   ]
  },
  {
   "cell_type": "markdown",
   "id": "dc8c17ae",
   "metadata": {},
   "source": [
    "The t-SNE algorithm comprises two main stages. First, t-SNE constructs a probability distribution over pairs of high-dimensional objects in such a way that similar objects are assigned a higher probability while dissimilar points are assigned a lower probability. Second, t-SNE defines a similar probability distribution over the points in the low-dimensional map, and it minimizes the Kullback–Leibler divergence (KL divergence) between the two distributions with respect to the locations of the points in the map. While the original algorithm uses the Euclidean distance between objects as the base of its similarity metric, this can be changed as appropriate."
   ]
  },
  {
   "cell_type": "markdown",
   "id": "2111f7e9",
   "metadata": {},
   "source": [
    "#### for high dimension:\n",
    "Distribution used is Gaussian with a small variance, which means that only nearby points have a high probability of being selected.\n",
    "\n",
    "#### for low dimension:\n",
    "Distribution used is t-student with a large variance, which means that far away points also have a high probability of being selected."
   ]
  },
  {
   "cell_type": "code",
   "execution_count": 84,
   "id": "aa1c47aa",
   "metadata": {},
   "outputs": [],
   "source": [
    "from sklearn.manifold import TSNE"
   ]
  },
  {
   "cell_type": "code",
   "execution_count": 85,
   "id": "c1f627bf",
   "metadata": {},
   "outputs": [
    {
     "name": "stderr",
     "output_type": "stream",
     "text": [
      "C:\\Python\\Python39\\lib\\site-packages\\sklearn\\manifold\\_t_sne.py:780: FutureWarning: The default initialization in TSNE will change from 'random' to 'pca' in 1.2.\n",
      "  warnings.warn(\n",
      "C:\\Python\\Python39\\lib\\site-packages\\sklearn\\manifold\\_t_sne.py:790: FutureWarning: The default learning rate in TSNE will change from 200.0 to 'auto' in 1.2.\n",
      "  warnings.warn(\n"
     ]
    },
    {
     "data": {
      "image/png": "[encoded data removed]",
      "text/plain": [
       "<Figure size 432x288 with 1 Axes>"
      ]
     },
     "metadata": {
      "needs_background": "light"
     },
     "output_type": "display_data"
    }
   ],
   "source": [
    "# apply t-SNE to the features\n",
    "tsne_embeddings = TSNE(n_components=2, perplexity=30, random_state=42).fit_transform(X)\n",
    "\n",
    "# create a scatter plot of the t-SNE embeddings with different colors for each label\n",
    "sns.scatterplot(x=tsne_embeddings[:,0], y=tsne_embeddings[:,1], hue=y, palette='bright')\n",
    "plt.show()"
   ]
  },
  {
   "cell_type": "markdown",
   "id": "353d98d9",
   "metadata": {},
   "source": [
    "### Visualization of data in 2D plane using PCA"
   ]
  },
  {
   "cell_type": "code",
   "execution_count": 86,
   "id": "cf0ad0f5",
   "metadata": {},
   "outputs": [],
   "source": [
    "from sklearn.decomposition import PCA"
   ]
  },
  {
   "cell_type": "code",
   "execution_count": 87,
   "id": "0db3a174",
   "metadata": {},
   "outputs": [
    {
     "data": {
      "image/png": "[encoded data removed]",
      "text/plain": [
       "<Figure size 432x288 with 1 Axes>"
      ]
     },
     "metadata": {
      "needs_background": "light"
     },
     "output_type": "display_data"
    }
   ],
   "source": [
    "# apply PCA to the features\n",
    "pca_embeddings = PCA(n_components=2, random_state=42).fit_transform(X)\n",
    "\n",
    "# create a scatter plot of the PCA embeddings with different colors for each label\n",
    "sns.scatterplot(x=pca_embeddings[:,0], y=pca_embeddings[:,1], hue=y, palette='bright')\n",
    "plt.show()"
   ]
  },
  {
   "cell_type": "markdown",
   "id": "9a41f02a",
   "metadata": {},
   "source": [
    "# Classification"
   ]
  },
  {
   "cell_type": "code",
   "execution_count": 81,
   "id": "c8a42528",
   "metadata": {},
   "outputs": [],
   "source": [
    "from sklearn.model_selection import KFold"
   ]
  },
  {
   "cell_type": "markdown",
   "id": "7ce6b87d",
   "metadata": {},
   "source": [
    "### 1. Logistic Regression"
   ]
  },
  {
   "cell_type": "code",
   "execution_count": 82,
   "id": "9b7b717f",
   "metadata": {},
   "outputs": [],
   "source": [
    "from sklearn.linear_model import LogisticRegression\n",
    "from sklearn.metrics import classification_report\n",
    "from sklearn.preprocessing import StandardScaler\n",
    "from sklearn.metrics import accuracy_score"
   ]
  },
  {
   "cell_type": "code",
   "execution_count": 83,
   "id": "8cf3d5f3",
   "metadata": {},
   "outputs": [],
   "source": [
    "scaler = StandardScaler()\n",
    "X_train = scaler.fit_transform(X_train)\n",
    "X_test = scaler.transform(X_test)"
   ]
  },
  {
   "cell_type": "code",
   "execution_count": 85,
   "id": "99d8979a",
   "metadata": {},
   "outputs": [
    {
     "data": {
      "text/plain": [
       "LogisticRegression(max_iter=1000, random_state=42)"
      ]
     },
     "execution_count": 85,
     "metadata": {},
     "output_type": "execute_result"
    }
   ],
   "source": [
    "logisticRegression = LogisticRegression(random_state=42, max_iter=1000)\n",
    "logisticRegression.fit(X_train, y_train)"
   ]
  },
  {
   "cell_type": "code",
   "execution_count": 88,
   "id": "2f98a0c0",
   "metadata": {},
   "outputs": [],
   "source": [
    "y_pred = logisticRegression.predict(X_test)"
   ]
  },
  {
   "cell_type": "code",
   "execution_count": 89,
   "id": "a195ecd2",
   "metadata": {},
   "outputs": [
    {
     "name": "stdout",
     "output_type": "stream",
     "text": [
      "Accuracy: 0.86\n"
     ]
    }
   ],
   "source": [
    "accuracy = accuracy_score(y_test, y_pred)\n",
    "print(f'Accuracy: {accuracy:.2f}')"
   ]
  },
  {
   "cell_type": "code",
   "execution_count": 90,
   "id": "bba56481",
   "metadata": {},
   "outputs": [
    {
     "name": "stdout",
     "output_type": "stream",
     "text": [
      "              precision    recall  f1-score   support\n",
      "\n",
      "           0       0.50      0.06      0.11       874\n",
      "           1       0.00      0.00      0.00        60\n",
      "           2       0.87      0.99      0.93      6037\n",
      "           3       0.00      0.00      0.00        10\n",
      "\n",
      "    accuracy                           0.86      6981\n",
      "   macro avg       0.34      0.26      0.26      6981\n",
      "weighted avg       0.82      0.86      0.81      6981\n",
      "\n"
     ]
    },
    {
     "name": "stderr",
     "output_type": "stream",
     "text": [
      "C:\\Python\\Python39\\lib\\site-packages\\sklearn\\metrics\\_classification.py:1308: UndefinedMetricWarning: Precision and F-score are ill-defined and being set to 0.0 in labels with no predicted samples. Use `zero_division` parameter to control this behavior.\n",
      "  _warn_prf(average, modifier, msg_start, len(result))\n",
      "C:\\Python\\Python39\\lib\\site-packages\\sklearn\\metrics\\_classification.py:1308: UndefinedMetricWarning: Precision and F-score are ill-defined and being set to 0.0 in labels with no predicted samples. Use `zero_division` parameter to control this behavior.\n",
      "  _warn_prf(average, modifier, msg_start, len(result))\n",
      "C:\\Python\\Python39\\lib\\site-packages\\sklearn\\metrics\\_classification.py:1308: UndefinedMetricWarning: Precision and F-score are ill-defined and being set to 0.0 in labels with no predicted samples. Use `zero_division` parameter to control this behavior.\n",
      "  _warn_prf(average, modifier, msg_start, len(result))\n"
     ]
    }
   ],
   "source": [
    "report = classification_report(y_test, y_pred)\n",
    "print(report)"
   ]
  },
  {
   "cell_type": "code",
   "execution_count": 91,
   "id": "2a231c19",
   "metadata": {},
   "outputs": [],
   "source": [
    "from sklearn.metrics import confusion_matrix"
   ]
  },
  {
   "cell_type": "code",
   "execution_count": 92,
   "id": "6363445d",
   "metadata": {},
   "outputs": [
    {
     "data": {
      "image/png": "[encoded data removed]",
      "text/plain": [
       "<Figure size 432x288 with 2 Axes>"
      ]
     },
     "metadata": {
      "needs_background": "light"
     },
     "output_type": "display_data"
    }
   ],
   "source": [
    "# create a confusion matrix of the predictions\n",
    "conf_mat = confusion_matrix(y_test, y_pred)\n",
    "\n",
    "# plot the confusion matrix using a heatmap\n",
    "sns.heatmap(conf_mat, annot=True, fmt='d', cmap='Blues')\n",
    "plt.xlabel('Predicted label')\n",
    "plt.ylabel('True label')\n",
    "plt.title('Confusion Matrix')\n",
    "plt.show()"
   ]
  },
  {
   "cell_type": "markdown",
   "id": "ee29f42e",
   "metadata": {},
   "source": [
    "### k-fold validation with k = 5"
   ]
  },
  {
   "cell_type": "code",
   "execution_count": 94,
   "id": "31da0216",
   "metadata": {},
   "outputs": [],
   "source": [
    "k_fold = KFold(n_splits=5, shuffle=True, random_state=42)"
   ]
  },
  {
   "cell_type": "code",
   "execution_count": 103,
   "id": "bd0a3336",
   "metadata": {},
   "outputs": [
    {
     "name": "stderr",
     "output_type": "stream",
     "text": [
      "C:\\Python\\Python39\\lib\\site-packages\\sklearn\\linear_model\\_logistic.py:814: ConvergenceWarning: lbfgs failed to converge (status=1):\n",
      "STOP: TOTAL NO. of ITERATIONS REACHED LIMIT.\n",
      "\n",
      "Increase the number of iterations (max_iter) or scale the data as shown in:\n",
      "    https://scikit-learn.org/stable/modules/preprocessing.html\n",
      "Please also refer to the documentation for alternative solver options:\n",
      "    https://scikit-learn.org/stable/modules/linear_model.html#logistic-regression\n",
      "  n_iter_i = _check_optimize_result(\n",
      "C:\\Python\\Python39\\lib\\site-packages\\sklearn\\metrics\\_classification.py:1308: UndefinedMetricWarning: Precision and F-score are ill-defined and being set to 0.0 in labels with no predicted samples. Use `zero_division` parameter to control this behavior.\n",
      "  _warn_prf(average, modifier, msg_start, len(result))\n",
      "C:\\Python\\Python39\\lib\\site-packages\\sklearn\\metrics\\_classification.py:1308: UndefinedMetricWarning: Precision and F-score are ill-defined and being set to 0.0 in labels with no predicted samples. Use `zero_division` parameter to control this behavior.\n",
      "  _warn_prf(average, modifier, msg_start, len(result))\n",
      "C:\\Python\\Python39\\lib\\site-packages\\sklearn\\metrics\\_classification.py:1308: UndefinedMetricWarning: Precision and F-score are ill-defined and being set to 0.0 in labels with no predicted samples. Use `zero_division` parameter to control this behavior.\n",
      "  _warn_prf(average, modifier, msg_start, len(result))\n",
      "C:\\Python\\Python39\\lib\\site-packages\\sklearn\\metrics\\_classification.py:1308: UndefinedMetricWarning: Precision and F-score are ill-defined and being set to 0.0 in labels with no predicted samples. Use `zero_division` parameter to control this behavior.\n",
      "  _warn_prf(average, modifier, msg_start, len(result))\n",
      "C:\\Python\\Python39\\lib\\site-packages\\sklearn\\metrics\\_classification.py:1308: UndefinedMetricWarning: Precision and F-score are ill-defined and being set to 0.0 in labels with no predicted samples. Use `zero_division` parameter to control this behavior.\n",
      "  _warn_prf(average, modifier, msg_start, len(result))\n",
      "C:\\Python\\Python39\\lib\\site-packages\\sklearn\\metrics\\_classification.py:1308: UndefinedMetricWarning: Precision and F-score are ill-defined and being set to 0.0 in labels with no predicted samples. Use `zero_division` parameter to control this behavior.\n",
      "  _warn_prf(average, modifier, msg_start, len(result))\n",
      "C:\\Python\\Python39\\lib\\site-packages\\sklearn\\linear_model\\_logistic.py:814: ConvergenceWarning: lbfgs failed to converge (status=1):\n",
      "STOP: TOTAL NO. of ITERATIONS REACHED LIMIT.\n",
      "\n",
      "Increase the number of iterations (max_iter) or scale the data as shown in:\n",
      "    https://scikit-learn.org/stable/modules/preprocessing.html\n",
      "Please also refer to the documentation for alternative solver options:\n",
      "    https://scikit-learn.org/stable/modules/linear_model.html#logistic-regression\n",
      "  n_iter_i = _check_optimize_result(\n",
      "C:\\Python\\Python39\\lib\\site-packages\\sklearn\\metrics\\_classification.py:1308: UndefinedMetricWarning: Precision and F-score are ill-defined and being set to 0.0 in labels with no predicted samples. Use `zero_division` parameter to control this behavior.\n",
      "  _warn_prf(average, modifier, msg_start, len(result))\n",
      "C:\\Python\\Python39\\lib\\site-packages\\sklearn\\metrics\\_classification.py:1308: UndefinedMetricWarning: Precision and F-score are ill-defined and being set to 0.0 in labels with no predicted samples. Use `zero_division` parameter to control this behavior.\n",
      "  _warn_prf(average, modifier, msg_start, len(result))\n",
      "C:\\Python\\Python39\\lib\\site-packages\\sklearn\\metrics\\_classification.py:1308: UndefinedMetricWarning: Precision and F-score are ill-defined and being set to 0.0 in labels with no predicted samples. Use `zero_division` parameter to control this behavior.\n",
      "  _warn_prf(average, modifier, msg_start, len(result))\n",
      "C:\\Python\\Python39\\lib\\site-packages\\sklearn\\linear_model\\_logistic.py:814: ConvergenceWarning: lbfgs failed to converge (status=1):\n",
      "STOP: TOTAL NO. of ITERATIONS REACHED LIMIT.\n",
      "\n",
      "Increase the number of iterations (max_iter) or scale the data as shown in:\n",
      "    https://scikit-learn.org/stable/modules/preprocessing.html\n",
      "Please also refer to the documentation for alternative solver options:\n",
      "    https://scikit-learn.org/stable/modules/linear_model.html#logistic-regression\n",
      "  n_iter_i = _check_optimize_result(\n",
      "C:\\Python\\Python39\\lib\\site-packages\\sklearn\\metrics\\_classification.py:1308: UndefinedMetricWarning: Precision and F-score are ill-defined and being set to 0.0 in labels with no predicted samples. Use `zero_division` parameter to control this behavior.\n",
      "  _warn_prf(average, modifier, msg_start, len(result))\n",
      "C:\\Python\\Python39\\lib\\site-packages\\sklearn\\metrics\\_classification.py:1308: UndefinedMetricWarning: Precision and F-score are ill-defined and being set to 0.0 in labels with no predicted samples. Use `zero_division` parameter to control this behavior.\n",
      "  _warn_prf(average, modifier, msg_start, len(result))\n",
      "C:\\Python\\Python39\\lib\\site-packages\\sklearn\\metrics\\_classification.py:1308: UndefinedMetricWarning: Precision and F-score are ill-defined and being set to 0.0 in labels with no predicted samples. Use `zero_division` parameter to control this behavior.\n",
      "  _warn_prf(average, modifier, msg_start, len(result))\n"
     ]
    },
    {
     "name": "stdout",
     "output_type": "stream",
     "text": [
      "Average metrics over 5-fold cross-validation:\n",
      "precision: 0.313\n",
      "recall: 0.256\n",
      "f1-score: 0.246\n",
      "support: 6980.800\n"
     ]
    },
    {
     "name": "stderr",
     "output_type": "stream",
     "text": [
      "C:\\Python\\Python39\\lib\\site-packages\\sklearn\\linear_model\\_logistic.py:814: ConvergenceWarning: lbfgs failed to converge (status=1):\n",
      "STOP: TOTAL NO. of ITERATIONS REACHED LIMIT.\n",
      "\n",
      "Increase the number of iterations (max_iter) or scale the data as shown in:\n",
      "    https://scikit-learn.org/stable/modules/preprocessing.html\n",
      "Please also refer to the documentation for alternative solver options:\n",
      "    https://scikit-learn.org/stable/modules/linear_model.html#logistic-regression\n",
      "  n_iter_i = _check_optimize_result(\n",
      "C:\\Python\\Python39\\lib\\site-packages\\sklearn\\metrics\\_classification.py:1308: UndefinedMetricWarning: Precision and F-score are ill-defined and being set to 0.0 in labels with no predicted samples. Use `zero_division` parameter to control this behavior.\n",
      "  _warn_prf(average, modifier, msg_start, len(result))\n",
      "C:\\Python\\Python39\\lib\\site-packages\\sklearn\\metrics\\_classification.py:1308: UndefinedMetricWarning: Precision and F-score are ill-defined and being set to 0.0 in labels with no predicted samples. Use `zero_division` parameter to control this behavior.\n",
      "  _warn_prf(average, modifier, msg_start, len(result))\n",
      "C:\\Python\\Python39\\lib\\site-packages\\sklearn\\metrics\\_classification.py:1308: UndefinedMetricWarning: Precision and F-score are ill-defined and being set to 0.0 in labels with no predicted samples. Use `zero_division` parameter to control this behavior.\n",
      "  _warn_prf(average, modifier, msg_start, len(result))\n"
     ]
    }
   ],
   "source": [
    "metrics = {'precision': [], 'recall': [], 'f1-score': [], 'support': []}\n",
    "\n",
    "for train_idx, test_idx in k_fold.split(X):\n",
    "    _X_train, _X_test = X.iloc[train_idx], X.iloc[test_idx]\n",
    "    _y_train, _y_test = y.iloc[train_idx], y.iloc[test_idx]\n",
    "    \n",
    "    logisticRegression.fit(_X_train, _y_train)\n",
    "    \n",
    "    _y_pred = logisticRegression.predict(_X_test)\n",
    "    \n",
    "    report = classification_report(_y_test, _y_pred, output_dict=True)\n",
    "    \n",
    "    for metric in metrics:\n",
    "        metrics[metric].append(report['macro avg'][metric])\n",
    "\n",
    "avg_metrics = {metric: np.mean(metrics[metric]) for metric in metrics}\n",
    "\n",
    "print('Average metrics over 5-fold cross-validation:')\n",
    "for metric in avg_metrics:\n",
    "    print(f'{metric}: {avg_metrics[metric]:.3f}')"
   ]
  },
  {
   "cell_type": "markdown",
   "id": "c41bfb98",
   "metadata": {},
   "source": [
    "### 2. Support Vector Machine"
   ]
  },
  {
   "cell_type": "code",
   "execution_count": 104,
   "id": "69bdb846",
   "metadata": {},
   "outputs": [],
   "source": [
    "from sklearn.svm import SVC"
   ]
  },
  {
   "cell_type": "markdown",
   "id": "a1e0d5f5",
   "metadata": {},
   "source": [
    "#### kernel used = linear"
   ]
  },
  {
   "cell_type": "code",
   "execution_count": 105,
   "id": "6208697b",
   "metadata": {},
   "outputs": [
    {
     "data": {
      "text/plain": [
       "SVC(C=1, kernel='linear', random_state=42)"
      ]
     },
     "execution_count": 105,
     "metadata": {},
     "output_type": "execute_result"
    }
   ],
   "source": [
    "# train an SVM model on the training set\n",
    "svm_linear = SVC(kernel='linear', C=1, random_state=42)\n",
    "svm_linear.fit(X_train, y_train)"
   ]
  },
  {
   "cell_type": "code",
   "execution_count": 106,
   "id": "a2d61ae1",
   "metadata": {},
   "outputs": [],
   "source": [
    "# make predictions on the testing set\n",
    "y_pred = svm_linear.predict(X_test)"
   ]
  },
  {
   "cell_type": "code",
   "execution_count": 107,
   "id": "0f760bd2",
   "metadata": {},
   "outputs": [
    {
     "name": "stdout",
     "output_type": "stream",
     "text": [
      "Accuracy: 0.86\n"
     ]
    }
   ],
   "source": [
    "# evaluate the performance of the model using accuracy\n",
    "accuracy = accuracy_score(y_test, y_pred)\n",
    "print(f'Accuracy: {accuracy:.2f}')"
   ]
  },
  {
   "cell_type": "code",
   "execution_count": 108,
   "id": "c55a0bea",
   "metadata": {},
   "outputs": [
    {
     "data": {
      "image/png": "[encoded data removed]",
      "text/plain": [
       "<Figure size 432x288 with 2 Axes>"
      ]
     },
     "metadata": {
      "needs_background": "light"
     },
     "output_type": "display_data"
    }
   ],
   "source": [
    "# create a confusion matrix of the predictions\n",
    "conf_mat = confusion_matrix(y_test, y_pred)\n",
    "\n",
    "# plot the confusion matrix using a heatmap\n",
    "sns.heatmap(conf_mat, annot=True, fmt='d', cmap='Blues')\n",
    "plt.xlabel('Predicted label')\n",
    "plt.ylabel('True label')\n",
    "plt.title('Confusion Matrix')\n",
    "plt.show()"
   ]
  },
  {
   "cell_type": "markdown",
   "id": "b63ed8e1",
   "metadata": {},
   "source": [
    "#### kernel used = Radial Basis Function"
   ]
  },
  {
   "cell_type": "code",
   "execution_count": 109,
   "id": "d96be865",
   "metadata": {},
   "outputs": [
    {
     "data": {
      "text/plain": [
       "SVC(C=1, random_state=42)"
      ]
     },
     "execution_count": 109,
     "metadata": {},
     "output_type": "execute_result"
    }
   ],
   "source": [
    "svm_rbf = SVC(kernel='rbf', C=1, random_state=42)\n",
    "svm_rbf.fit(X_train, y_train)"
   ]
  },
  {
   "cell_type": "code",
   "execution_count": 111,
   "id": "a00393c2",
   "metadata": {},
   "outputs": [],
   "source": [
    "y_pred = svm_rbf.predict(X_test)"
   ]
  },
  {
   "cell_type": "code",
   "execution_count": 112,
   "id": "1cc15c65",
   "metadata": {},
   "outputs": [
    {
     "name": "stdout",
     "output_type": "stream",
     "text": [
      "Accuracy: 0.87\n"
     ]
    }
   ],
   "source": [
    "accuracy = accuracy_score(y_test, y_pred)\n",
    "print(f'Accuracy: {accuracy:.2f}')"
   ]
  },
  {
   "cell_type": "code",
   "execution_count": 113,
   "id": "3c2f285c",
   "metadata": {},
   "outputs": [
    {
     "data": {
      "image/png": "[encoded data removed]",
      "text/plain": [
       "<Figure size 432x288 with 2 Axes>"
      ]
     },
     "metadata": {
      "needs_background": "light"
     },
     "output_type": "display_data"
    }
   ],
   "source": [
    "# create a confusion matrix of the predictions\n",
    "conf_mat = confusion_matrix(y_test, y_pred)\n",
    "\n",
    "# plot the confusion matrix using a heatmap\n",
    "sns.heatmap(conf_mat, annot=True, fmt='d', cmap='Blues')\n",
    "plt.xlabel('Predicted label')\n",
    "plt.ylabel('True label')\n",
    "plt.title('Confusion Matrix')\n",
    "plt.show()"
   ]
  },
  {
   "cell_type": "markdown",
   "id": "5f838341",
   "metadata": {},
   "source": [
    "### k-fold validation"
   ]
  },
  {
   "cell_type": "code",
   "execution_count": 114,
   "id": "95e3de3c",
   "metadata": {},
   "outputs": [],
   "source": [
    "metrics = {'precision': [], 'recall': [], 'f1-score': [], 'support': []}\n",
    "accuracy = 0"
   ]
  },
  {
   "cell_type": "markdown",
   "id": "2709fec0",
   "metadata": {},
   "source": [
    "#### Training loop (linear kernel)"
   ]
  },
  {
   "cell_type": "code",
   "execution_count": 115,
   "id": "79226890",
   "metadata": {},
   "outputs": [
    {
     "name": "stderr",
     "output_type": "stream",
     "text": [
      "C:\\Python\\Python39\\lib\\site-packages\\sklearn\\base.py:434: UserWarning: X has feature names, but SVC was fitted without feature names\n",
      "  warnings.warn(\n",
      "C:\\Python\\Python39\\lib\\site-packages\\sklearn\\metrics\\_classification.py:1308: UndefinedMetricWarning: Precision and F-score are ill-defined and being set to 0.0 in labels with no predicted samples. Use `zero_division` parameter to control this behavior.\n",
      "  _warn_prf(average, modifier, msg_start, len(result))\n",
      "C:\\Python\\Python39\\lib\\site-packages\\sklearn\\metrics\\_classification.py:1308: UndefinedMetricWarning: Precision and F-score are ill-defined and being set to 0.0 in labels with no predicted samples. Use `zero_division` parameter to control this behavior.\n",
      "  _warn_prf(average, modifier, msg_start, len(result))\n",
      "C:\\Python\\Python39\\lib\\site-packages\\sklearn\\metrics\\_classification.py:1308: UndefinedMetricWarning: Precision and F-score are ill-defined and being set to 0.0 in labels with no predicted samples. Use `zero_division` parameter to control this behavior.\n",
      "  _warn_prf(average, modifier, msg_start, len(result))\n",
      "C:\\Python\\Python39\\lib\\site-packages\\sklearn\\base.py:434: UserWarning: X has feature names, but SVC was fitted without feature names\n",
      "  warnings.warn(\n",
      "C:\\Python\\Python39\\lib\\site-packages\\sklearn\\metrics\\_classification.py:1308: UndefinedMetricWarning: Precision and F-score are ill-defined and being set to 0.0 in labels with no predicted samples. Use `zero_division` parameter to control this behavior.\n",
      "  _warn_prf(average, modifier, msg_start, len(result))\n",
      "C:\\Python\\Python39\\lib\\site-packages\\sklearn\\metrics\\_classification.py:1308: UndefinedMetricWarning: Precision and F-score are ill-defined and being set to 0.0 in labels with no predicted samples. Use `zero_division` parameter to control this behavior.\n",
      "  _warn_prf(average, modifier, msg_start, len(result))\n",
      "C:\\Python\\Python39\\lib\\site-packages\\sklearn\\metrics\\_classification.py:1308: UndefinedMetricWarning: Precision and F-score are ill-defined and being set to 0.0 in labels with no predicted samples. Use `zero_division` parameter to control this behavior.\n",
      "  _warn_prf(average, modifier, msg_start, len(result))\n",
      "C:\\Python\\Python39\\lib\\site-packages\\sklearn\\base.py:434: UserWarning: X has feature names, but SVC was fitted without feature names\n",
      "  warnings.warn(\n",
      "C:\\Python\\Python39\\lib\\site-packages\\sklearn\\metrics\\_classification.py:1308: UndefinedMetricWarning: Precision and F-score are ill-defined and being set to 0.0 in labels with no predicted samples. Use `zero_division` parameter to control this behavior.\n",
      "  _warn_prf(average, modifier, msg_start, len(result))\n",
      "C:\\Python\\Python39\\lib\\site-packages\\sklearn\\metrics\\_classification.py:1308: UndefinedMetricWarning: Precision and F-score are ill-defined and being set to 0.0 in labels with no predicted samples. Use `zero_division` parameter to control this behavior.\n",
      "  _warn_prf(average, modifier, msg_start, len(result))\n",
      "C:\\Python\\Python39\\lib\\site-packages\\sklearn\\metrics\\_classification.py:1308: UndefinedMetricWarning: Precision and F-score are ill-defined and being set to 0.0 in labels with no predicted samples. Use `zero_division` parameter to control this behavior.\n",
      "  _warn_prf(average, modifier, msg_start, len(result))\n",
      "C:\\Python\\Python39\\lib\\site-packages\\sklearn\\base.py:434: UserWarning: X has feature names, but SVC was fitted without feature names\n",
      "  warnings.warn(\n",
      "C:\\Python\\Python39\\lib\\site-packages\\sklearn\\metrics\\_classification.py:1308: UndefinedMetricWarning: Precision and F-score are ill-defined and being set to 0.0 in labels with no predicted samples. Use `zero_division` parameter to control this behavior.\n",
      "  _warn_prf(average, modifier, msg_start, len(result))\n",
      "C:\\Python\\Python39\\lib\\site-packages\\sklearn\\metrics\\_classification.py:1308: UndefinedMetricWarning: Precision and F-score are ill-defined and being set to 0.0 in labels with no predicted samples. Use `zero_division` parameter to control this behavior.\n",
      "  _warn_prf(average, modifier, msg_start, len(result))\n",
      "C:\\Python\\Python39\\lib\\site-packages\\sklearn\\metrics\\_classification.py:1308: UndefinedMetricWarning: Precision and F-score are ill-defined and being set to 0.0 in labels with no predicted samples. Use `zero_division` parameter to control this behavior.\n",
      "  _warn_prf(average, modifier, msg_start, len(result))\n",
      "C:\\Python\\Python39\\lib\\site-packages\\sklearn\\base.py:434: UserWarning: X has feature names, but SVC was fitted without feature names\n",
      "  warnings.warn(\n",
      "C:\\Python\\Python39\\lib\\site-packages\\sklearn\\metrics\\_classification.py:1308: UndefinedMetricWarning: Precision and F-score are ill-defined and being set to 0.0 in labels with no predicted samples. Use `zero_division` parameter to control this behavior.\n",
      "  _warn_prf(average, modifier, msg_start, len(result))\n",
      "C:\\Python\\Python39\\lib\\site-packages\\sklearn\\metrics\\_classification.py:1308: UndefinedMetricWarning: Precision and F-score are ill-defined and being set to 0.0 in labels with no predicted samples. Use `zero_division` parameter to control this behavior.\n",
      "  _warn_prf(average, modifier, msg_start, len(result))\n",
      "C:\\Python\\Python39\\lib\\site-packages\\sklearn\\metrics\\_classification.py:1308: UndefinedMetricWarning: Precision and F-score are ill-defined and being set to 0.0 in labels with no predicted samples. Use `zero_division` parameter to control this behavior.\n",
      "  _warn_prf(average, modifier, msg_start, len(result))\n"
     ]
    }
   ],
   "source": [
    "for train_idx, test_idx in k_fold.split(X):\n",
    "    \n",
    "    _X_train, _X_test = X.iloc[train_idx], X.iloc[test_idx]\n",
    "    _y_train, _y_test = y.iloc[train_idx], y.iloc[test_idx]\n",
    "    \n",
    "    svm_linear.fit(X_train, y_train)\n",
    "    \n",
    "    _y_pred = svm_linear.predict(_X_test)\n",
    "    \n",
    "    report = classification_report(_y_test, _y_pred, output_dict=True)\n",
    "    accuracy += accuracy_score(_y_test, _y_pred)\n",
    "    \n",
    "    for metric in metrics:\n",
    "        metrics[metric].append(report['macro avg'][metric])\n",
    "\n",
    "avg_metrics = {metric: np.mean(metrics[metric]) for metric in metrics}"
   ]
  },
  {
   "cell_type": "code",
   "execution_count": 116,
   "id": "0fab1a8a",
   "metadata": {},
   "outputs": [
    {
     "name": "stdout",
     "output_type": "stream",
     "text": [
      "Average metrics over 5-fold cross-validation:\n",
      "precision: 0.000\n",
      "recall: 0.250\n",
      "f1-score: 0.001\n",
      "support: 6980.800\n"
     ]
    }
   ],
   "source": [
    "print('Average metrics over 5-fold cross-validation:')\n",
    "for metric in avg_metrics:\n",
    "    print(f'{metric}: {avg_metrics[metric]:.3f}')\n",
    "    \n",
    "print(\"Accuracy: \", accuracy/5)"
   ]
  },
  {
   "cell_type": "code",
   "execution_count": 117,
   "id": "7be802b0",
   "metadata": {},
   "outputs": [],
   "source": [
    "metrics = {'precision': [], 'recall': [], 'f1-score': [], 'support': []}\n",
    "accuracy = 0"
   ]
  },
  {
   "cell_type": "markdown",
   "id": "e82ff4a4",
   "metadata": {},
   "source": [
    "#### Training loop (rbf kernel)"
   ]
  },
  {
   "cell_type": "code",
   "execution_count": 118,
   "id": "8d057383",
   "metadata": {},
   "outputs": [
    {
     "name": "stderr",
     "output_type": "stream",
     "text": [
      "C:\\Python\\Python39\\lib\\site-packages\\sklearn\\base.py:434: UserWarning: X has feature names, but SVC was fitted without feature names\n",
      "  warnings.warn(\n",
      "C:\\Python\\Python39\\lib\\site-packages\\sklearn\\metrics\\_classification.py:1308: UndefinedMetricWarning: Precision and F-score are ill-defined and being set to 0.0 in labels with no predicted samples. Use `zero_division` parameter to control this behavior.\n",
      "  _warn_prf(average, modifier, msg_start, len(result))\n",
      "C:\\Python\\Python39\\lib\\site-packages\\sklearn\\metrics\\_classification.py:1308: UndefinedMetricWarning: Precision and F-score are ill-defined and being set to 0.0 in labels with no predicted samples. Use `zero_division` parameter to control this behavior.\n",
      "  _warn_prf(average, modifier, msg_start, len(result))\n",
      "C:\\Python\\Python39\\lib\\site-packages\\sklearn\\metrics\\_classification.py:1308: UndefinedMetricWarning: Precision and F-score are ill-defined and being set to 0.0 in labels with no predicted samples. Use `zero_division` parameter to control this behavior.\n",
      "  _warn_prf(average, modifier, msg_start, len(result))\n",
      "C:\\Python\\Python39\\lib\\site-packages\\sklearn\\base.py:434: UserWarning: X has feature names, but SVC was fitted without feature names\n",
      "  warnings.warn(\n",
      "C:\\Python\\Python39\\lib\\site-packages\\sklearn\\metrics\\_classification.py:1308: UndefinedMetricWarning: Precision and F-score are ill-defined and being set to 0.0 in labels with no predicted samples. Use `zero_division` parameter to control this behavior.\n",
      "  _warn_prf(average, modifier, msg_start, len(result))\n",
      "C:\\Python\\Python39\\lib\\site-packages\\sklearn\\metrics\\_classification.py:1308: UndefinedMetricWarning: Precision and F-score are ill-defined and being set to 0.0 in labels with no predicted samples. Use `zero_division` parameter to control this behavior.\n",
      "  _warn_prf(average, modifier, msg_start, len(result))\n",
      "C:\\Python\\Python39\\lib\\site-packages\\sklearn\\metrics\\_classification.py:1308: UndefinedMetricWarning: Precision and F-score are ill-defined and being set to 0.0 in labels with no predicted samples. Use `zero_division` parameter to control this behavior.\n",
      "  _warn_prf(average, modifier, msg_start, len(result))\n",
      "C:\\Python\\Python39\\lib\\site-packages\\sklearn\\base.py:434: UserWarning: X has feature names, but SVC was fitted without feature names\n",
      "  warnings.warn(\n",
      "C:\\Python\\Python39\\lib\\site-packages\\sklearn\\metrics\\_classification.py:1308: UndefinedMetricWarning: Precision and F-score are ill-defined and being set to 0.0 in labels with no predicted samples. Use `zero_division` parameter to control this behavior.\n",
      "  _warn_prf(average, modifier, msg_start, len(result))\n",
      "C:\\Python\\Python39\\lib\\site-packages\\sklearn\\metrics\\_classification.py:1308: UndefinedMetricWarning: Precision and F-score are ill-defined and being set to 0.0 in labels with no predicted samples. Use `zero_division` parameter to control this behavior.\n",
      "  _warn_prf(average, modifier, msg_start, len(result))\n",
      "C:\\Python\\Python39\\lib\\site-packages\\sklearn\\metrics\\_classification.py:1308: UndefinedMetricWarning: Precision and F-score are ill-defined and being set to 0.0 in labels with no predicted samples. Use `zero_division` parameter to control this behavior.\n",
      "  _warn_prf(average, modifier, msg_start, len(result))\n",
      "C:\\Python\\Python39\\lib\\site-packages\\sklearn\\base.py:434: UserWarning: X has feature names, but SVC was fitted without feature names\n",
      "  warnings.warn(\n",
      "C:\\Python\\Python39\\lib\\site-packages\\sklearn\\metrics\\_classification.py:1308: UndefinedMetricWarning: Precision and F-score are ill-defined and being set to 0.0 in labels with no predicted samples. Use `zero_division` parameter to control this behavior.\n",
      "  _warn_prf(average, modifier, msg_start, len(result))\n",
      "C:\\Python\\Python39\\lib\\site-packages\\sklearn\\metrics\\_classification.py:1308: UndefinedMetricWarning: Precision and F-score are ill-defined and being set to 0.0 in labels with no predicted samples. Use `zero_division` parameter to control this behavior.\n",
      "  _warn_prf(average, modifier, msg_start, len(result))\n",
      "C:\\Python\\Python39\\lib\\site-packages\\sklearn\\metrics\\_classification.py:1308: UndefinedMetricWarning: Precision and F-score are ill-defined and being set to 0.0 in labels with no predicted samples. Use `zero_division` parameter to control this behavior.\n",
      "  _warn_prf(average, modifier, msg_start, len(result))\n",
      "C:\\Python\\Python39\\lib\\site-packages\\sklearn\\base.py:434: UserWarning: X has feature names, but SVC was fitted without feature names\n",
      "  warnings.warn(\n",
      "C:\\Python\\Python39\\lib\\site-packages\\sklearn\\metrics\\_classification.py:1308: UndefinedMetricWarning: Precision and F-score are ill-defined and being set to 0.0 in labels with no predicted samples. Use `zero_division` parameter to control this behavior.\n",
      "  _warn_prf(average, modifier, msg_start, len(result))\n",
      "C:\\Python\\Python39\\lib\\site-packages\\sklearn\\metrics\\_classification.py:1308: UndefinedMetricWarning: Precision and F-score are ill-defined and being set to 0.0 in labels with no predicted samples. Use `zero_division` parameter to control this behavior.\n",
      "  _warn_prf(average, modifier, msg_start, len(result))\n",
      "C:\\Python\\Python39\\lib\\site-packages\\sklearn\\metrics\\_classification.py:1308: UndefinedMetricWarning: Precision and F-score are ill-defined and being set to 0.0 in labels with no predicted samples. Use `zero_division` parameter to control this behavior.\n",
      "  _warn_prf(average, modifier, msg_start, len(result))\n"
     ]
    }
   ],
   "source": [
    "for train_idx, test_idx in k_fold.split(X):\n",
    "    \n",
    "    _X_train, _X_test = X.iloc[train_idx], X.iloc[test_idx]\n",
    "    _y_train, _y_test = y.iloc[train_idx], y.iloc[test_idx]\n",
    "    \n",
    "    svm_rbf.fit(X_train, y_train)\n",
    "    \n",
    "    _y_pred = svm_rbf.predict(_X_test)\n",
    "    \n",
    "    report = classification_report(_y_test, _y_pred, output_dict=True)\n",
    "    accuracy += accuracy_score(_y_test, _y_pred)\n",
    "    \n",
    "    for metric in metrics:\n",
    "        metrics[metric].append(report['macro avg'][metric])\n",
    "\n",
    "avg_metrics = {metric: np.mean(metrics[metric]) for metric in metrics}"
   ]
  },
  {
   "cell_type": "code",
   "execution_count": 119,
   "id": "df52654e",
   "metadata": {},
   "outputs": [
    {
     "name": "stdout",
     "output_type": "stream",
     "text": [
      "Average metrics over 5-fold cross-validation:\n",
      "precision: 0.216\n",
      "recall: 0.250\n",
      "f1-score: 0.232\n",
      "support: 6980.800\n",
      "Accuracy:  0.17301246239793727\n"
     ]
    }
   ],
   "source": [
    "print('Average metrics over 5-fold cross-validation:')\n",
    "for metric in avg_metrics:\n",
    "    print(f'{metric}: {avg_metrics[metric]:.3f}')\n",
    "\n",
    "print(\"Accuracy: \", accuracy / 5)"
   ]
  },
  {
   "cell_type": "code",
   "execution_count": null,
   "id": "dd707d70",
   "metadata": {},
   "outputs": [],
   "source": []
  }
 ],
 "metadata": {
  "kernelspec": {
   "display_name": "Python 3 (ipykernel)",
   "language": "python",
   "name": "python3"
  },
  "language_info": {
   "codemirror_mode": {
    "name": "ipython",
    "version": 3
   },
   "file_extension": ".py",
   "mimetype": "text/x-python",
   "name": "python",
   "nbconvert_exporter": "python",
   "pygments_lexer": "ipython3",
   "version": "3.9.7"
  }
 },
 "nbformat": 4,
 "nbformat_minor": 5
}
